{
  "nbformat": 4,
  "nbformat_minor": 0,
  "metadata": {
    "colab": {
      "provenance": []
    },
    "kernelspec": {
      "name": "python3",
      "display_name": "Python 3"
    },
    "language_info": {
      "name": "python"
    }
  },
  "cells": [
    {
      "cell_type": "code",
      "execution_count": 1,
      "metadata": {
        "id": "izOlqqqOZHri"
      },
      "outputs": [],
      "source": [
        "import pandas as pd\n",
        "import numpy as np\n",
        "import matplotlib.pyplot as plt"
      ]
    },
    {
      "cell_type": "code",
      "source": [
        "from keras.models import Sequential"
      ],
      "metadata": {
        "id": "gymgA8NMZPP2"
      },
      "execution_count": 2,
      "outputs": []
    },
    {
      "cell_type": "code",
      "source": [
        "from keras.layers import Dense,LSTM,Dropout"
      ],
      "metadata": {
        "id": "ZkmrewTLZTRl"
      },
      "execution_count": 3,
      "outputs": []
    },
    {
      "cell_type": "code",
      "source": [
        "from sklearn.preprocessing import MinMaxScaler"
      ],
      "metadata": {
        "id": "wlF5Gq4FZakd"
      },
      "execution_count": 4,
      "outputs": []
    },
    {
      "cell_type": "code",
      "source": [
        "df = pd.read_csv(\"/content/Google_Stock_Price_Train.csv\")\n",
        "df.head(2)"
      ],
      "metadata": {
        "colab": {
          "base_uri": "https://localhost:8080/",
          "height": 112
        },
        "id": "vu5nUJJBbGAW",
        "outputId": "ba219e12-c578-4579-c8e5-e1bb5e3935fa"
      },
      "execution_count": 5,
      "outputs": [
        {
          "output_type": "execute_result",
          "data": {
            "text/plain": [
              "       Date    Open    High     Low   Close     Volume\n",
              "0  1/3/2012  325.25  332.83  324.97  663.59  7,380,500\n",
              "1  1/4/2012  331.27  333.87  329.08  666.45  5,749,400"
            ],
            "text/html": [
              "\n",
              "  <div id=\"df-9f5f835a-c9b0-4f0e-8649-60697ada04e8\" class=\"colab-df-container\">\n",
              "    <div>\n",
              "<style scoped>\n",
              "    .dataframe tbody tr th:only-of-type {\n",
              "        vertical-align: middle;\n",
              "    }\n",
              "\n",
              "    .dataframe tbody tr th {\n",
              "        vertical-align: top;\n",
              "    }\n",
              "\n",
              "    .dataframe thead th {\n",
              "        text-align: right;\n",
              "    }\n",
              "</style>\n",
              "<table border=\"1\" class=\"dataframe\">\n",
              "  <thead>\n",
              "    <tr style=\"text-align: right;\">\n",
              "      <th></th>\n",
              "      <th>Date</th>\n",
              "      <th>Open</th>\n",
              "      <th>High</th>\n",
              "      <th>Low</th>\n",
              "      <th>Close</th>\n",
              "      <th>Volume</th>\n",
              "    </tr>\n",
              "  </thead>\n",
              "  <tbody>\n",
              "    <tr>\n",
              "      <th>0</th>\n",
              "      <td>1/3/2012</td>\n",
              "      <td>325.25</td>\n",
              "      <td>332.83</td>\n",
              "      <td>324.97</td>\n",
              "      <td>663.59</td>\n",
              "      <td>7,380,500</td>\n",
              "    </tr>\n",
              "    <tr>\n",
              "      <th>1</th>\n",
              "      <td>1/4/2012</td>\n",
              "      <td>331.27</td>\n",
              "      <td>333.87</td>\n",
              "      <td>329.08</td>\n",
              "      <td>666.45</td>\n",
              "      <td>5,749,400</td>\n",
              "    </tr>\n",
              "  </tbody>\n",
              "</table>\n",
              "</div>\n",
              "    <div class=\"colab-df-buttons\">\n",
              "\n",
              "  <div class=\"colab-df-container\">\n",
              "    <button class=\"colab-df-convert\" onclick=\"convertToInteractive('df-9f5f835a-c9b0-4f0e-8649-60697ada04e8')\"\n",
              "            title=\"Convert this dataframe to an interactive table.\"\n",
              "            style=\"display:none;\">\n",
              "\n",
              "  <svg xmlns=\"http://www.w3.org/2000/svg\" height=\"24px\" viewBox=\"0 -960 960 960\">\n",
              "    <path d=\"M120-120v-720h720v720H120Zm60-500h600v-160H180v160Zm220 220h160v-160H400v160Zm0 220h160v-160H400v160ZM180-400h160v-160H180v160Zm440 0h160v-160H620v160ZM180-180h160v-160H180v160Zm440 0h160v-160H620v160Z\"/>\n",
              "  </svg>\n",
              "    </button>\n",
              "\n",
              "  <style>\n",
              "    .colab-df-container {\n",
              "      display:flex;\n",
              "      gap: 12px;\n",
              "    }\n",
              "\n",
              "    .colab-df-convert {\n",
              "      background-color: #E8F0FE;\n",
              "      border: none;\n",
              "      border-radius: 50%;\n",
              "      cursor: pointer;\n",
              "      display: none;\n",
              "      fill: #1967D2;\n",
              "      height: 32px;\n",
              "      padding: 0 0 0 0;\n",
              "      width: 32px;\n",
              "    }\n",
              "\n",
              "    .colab-df-convert:hover {\n",
              "      background-color: #E2EBFA;\n",
              "      box-shadow: 0px 1px 2px rgba(60, 64, 67, 0.3), 0px 1px 3px 1px rgba(60, 64, 67, 0.15);\n",
              "      fill: #174EA6;\n",
              "    }\n",
              "\n",
              "    .colab-df-buttons div {\n",
              "      margin-bottom: 4px;\n",
              "    }\n",
              "\n",
              "    [theme=dark] .colab-df-convert {\n",
              "      background-color: #3B4455;\n",
              "      fill: #D2E3FC;\n",
              "    }\n",
              "\n",
              "    [theme=dark] .colab-df-convert:hover {\n",
              "      background-color: #434B5C;\n",
              "      box-shadow: 0px 1px 3px 1px rgba(0, 0, 0, 0.15);\n",
              "      filter: drop-shadow(0px 1px 2px rgba(0, 0, 0, 0.3));\n",
              "      fill: #FFFFFF;\n",
              "    }\n",
              "  </style>\n",
              "\n",
              "    <script>\n",
              "      const buttonEl =\n",
              "        document.querySelector('#df-9f5f835a-c9b0-4f0e-8649-60697ada04e8 button.colab-df-convert');\n",
              "      buttonEl.style.display =\n",
              "        google.colab.kernel.accessAllowed ? 'block' : 'none';\n",
              "\n",
              "      async function convertToInteractive(key) {\n",
              "        const element = document.querySelector('#df-9f5f835a-c9b0-4f0e-8649-60697ada04e8');\n",
              "        const dataTable =\n",
              "          await google.colab.kernel.invokeFunction('convertToInteractive',\n",
              "                                                    [key], {});\n",
              "        if (!dataTable) return;\n",
              "\n",
              "        const docLinkHtml = 'Like what you see? Visit the ' +\n",
              "          '<a target=\"_blank\" href=https://colab.research.google.com/notebooks/data_table.ipynb>data table notebook</a>'\n",
              "          + ' to learn more about interactive tables.';\n",
              "        element.innerHTML = '';\n",
              "        dataTable['output_type'] = 'display_data';\n",
              "        await google.colab.output.renderOutput(dataTable, element);\n",
              "        const docLink = document.createElement('div');\n",
              "        docLink.innerHTML = docLinkHtml;\n",
              "        element.appendChild(docLink);\n",
              "      }\n",
              "    </script>\n",
              "  </div>\n",
              "\n",
              "\n",
              "<div id=\"df-1cea1b66-bce8-47a8-b89b-a6798da9b703\">\n",
              "  <button class=\"colab-df-quickchart\" onclick=\"quickchart('df-1cea1b66-bce8-47a8-b89b-a6798da9b703')\"\n",
              "            title=\"Suggest charts.\"\n",
              "            style=\"display:none;\">\n",
              "\n",
              "<svg xmlns=\"http://www.w3.org/2000/svg\" height=\"24px\"viewBox=\"0 0 24 24\"\n",
              "     width=\"24px\">\n",
              "    <g>\n",
              "        <path d=\"M19 3H5c-1.1 0-2 .9-2 2v14c0 1.1.9 2 2 2h14c1.1 0 2-.9 2-2V5c0-1.1-.9-2-2-2zM9 17H7v-7h2v7zm4 0h-2V7h2v10zm4 0h-2v-4h2v4z\"/>\n",
              "    </g>\n",
              "</svg>\n",
              "  </button>\n",
              "\n",
              "<style>\n",
              "  .colab-df-quickchart {\n",
              "    background-color: #E8F0FE;\n",
              "    border: none;\n",
              "    border-radius: 50%;\n",
              "    cursor: pointer;\n",
              "    display: none;\n",
              "    fill: #1967D2;\n",
              "    height: 32px;\n",
              "    padding: 0 0 0 0;\n",
              "    width: 32px;\n",
              "  }\n",
              "\n",
              "  .colab-df-quickchart:hover {\n",
              "    background-color: #E2EBFA;\n",
              "    box-shadow: 0px 1px 2px rgba(60, 64, 67, 0.3), 0px 1px 3px 1px rgba(60, 64, 67, 0.15);\n",
              "    fill: #174EA6;\n",
              "  }\n",
              "\n",
              "  [theme=dark] .colab-df-quickchart {\n",
              "    background-color: #3B4455;\n",
              "    fill: #D2E3FC;\n",
              "  }\n",
              "\n",
              "  [theme=dark] .colab-df-quickchart:hover {\n",
              "    background-color: #434B5C;\n",
              "    box-shadow: 0px 1px 3px 1px rgba(0, 0, 0, 0.15);\n",
              "    filter: drop-shadow(0px 1px 2px rgba(0, 0, 0, 0.3));\n",
              "    fill: #FFFFFF;\n",
              "  }\n",
              "</style>\n",
              "\n",
              "  <script>\n",
              "    async function quickchart(key) {\n",
              "      const charts = await google.colab.kernel.invokeFunction(\n",
              "          'suggestCharts', [key], {});\n",
              "    }\n",
              "    (() => {\n",
              "      let quickchartButtonEl =\n",
              "        document.querySelector('#df-1cea1b66-bce8-47a8-b89b-a6798da9b703 button');\n",
              "      quickchartButtonEl.style.display =\n",
              "        google.colab.kernel.accessAllowed ? 'block' : 'none';\n",
              "    })();\n",
              "  </script>\n",
              "</div>\n",
              "    </div>\n",
              "  </div>\n"
            ]
          },
          "metadata": {},
          "execution_count": 5
        }
      ]
    },
    {
      "cell_type": "code",
      "source": [
        "dataset_test = pd.read_csv(\"/content/Google_Stock_Price_Test.csv\")\n",
        "dataset_test.head(2)"
      ],
      "metadata": {
        "colab": {
          "base_uri": "https://localhost:8080/",
          "height": 112
        },
        "id": "I2A4hBgfZ2tv",
        "outputId": "8902698e-15b5-4f44-c0f5-2fa7f6543b2d"
      },
      "execution_count": 20,
      "outputs": [
        {
          "output_type": "execute_result",
          "data": {
            "text/plain": [
              "       Date    Open    High     Low   Close     Volume\n",
              "0  1/3/2017  778.81  789.63  775.80  786.14  1,657,300\n",
              "1  1/4/2017  788.36  791.34  783.16  786.90  1,073,000"
            ],
            "text/html": [
              "\n",
              "  <div id=\"df-f7997a92-c0a0-411b-9d73-76a00d937662\" class=\"colab-df-container\">\n",
              "    <div>\n",
              "<style scoped>\n",
              "    .dataframe tbody tr th:only-of-type {\n",
              "        vertical-align: middle;\n",
              "    }\n",
              "\n",
              "    .dataframe tbody tr th {\n",
              "        vertical-align: top;\n",
              "    }\n",
              "\n",
              "    .dataframe thead th {\n",
              "        text-align: right;\n",
              "    }\n",
              "</style>\n",
              "<table border=\"1\" class=\"dataframe\">\n",
              "  <thead>\n",
              "    <tr style=\"text-align: right;\">\n",
              "      <th></th>\n",
              "      <th>Date</th>\n",
              "      <th>Open</th>\n",
              "      <th>High</th>\n",
              "      <th>Low</th>\n",
              "      <th>Close</th>\n",
              "      <th>Volume</th>\n",
              "    </tr>\n",
              "  </thead>\n",
              "  <tbody>\n",
              "    <tr>\n",
              "      <th>0</th>\n",
              "      <td>1/3/2017</td>\n",
              "      <td>778.81</td>\n",
              "      <td>789.63</td>\n",
              "      <td>775.80</td>\n",
              "      <td>786.14</td>\n",
              "      <td>1,657,300</td>\n",
              "    </tr>\n",
              "    <tr>\n",
              "      <th>1</th>\n",
              "      <td>1/4/2017</td>\n",
              "      <td>788.36</td>\n",
              "      <td>791.34</td>\n",
              "      <td>783.16</td>\n",
              "      <td>786.90</td>\n",
              "      <td>1,073,000</td>\n",
              "    </tr>\n",
              "  </tbody>\n",
              "</table>\n",
              "</div>\n",
              "    <div class=\"colab-df-buttons\">\n",
              "\n",
              "  <div class=\"colab-df-container\">\n",
              "    <button class=\"colab-df-convert\" onclick=\"convertToInteractive('df-f7997a92-c0a0-411b-9d73-76a00d937662')\"\n",
              "            title=\"Convert this dataframe to an interactive table.\"\n",
              "            style=\"display:none;\">\n",
              "\n",
              "  <svg xmlns=\"http://www.w3.org/2000/svg\" height=\"24px\" viewBox=\"0 -960 960 960\">\n",
              "    <path d=\"M120-120v-720h720v720H120Zm60-500h600v-160H180v160Zm220 220h160v-160H400v160Zm0 220h160v-160H400v160ZM180-400h160v-160H180v160Zm440 0h160v-160H620v160ZM180-180h160v-160H180v160Zm440 0h160v-160H620v160Z\"/>\n",
              "  </svg>\n",
              "    </button>\n",
              "\n",
              "  <style>\n",
              "    .colab-df-container {\n",
              "      display:flex;\n",
              "      gap: 12px;\n",
              "    }\n",
              "\n",
              "    .colab-df-convert {\n",
              "      background-color: #E8F0FE;\n",
              "      border: none;\n",
              "      border-radius: 50%;\n",
              "      cursor: pointer;\n",
              "      display: none;\n",
              "      fill: #1967D2;\n",
              "      height: 32px;\n",
              "      padding: 0 0 0 0;\n",
              "      width: 32px;\n",
              "    }\n",
              "\n",
              "    .colab-df-convert:hover {\n",
              "      background-color: #E2EBFA;\n",
              "      box-shadow: 0px 1px 2px rgba(60, 64, 67, 0.3), 0px 1px 3px 1px rgba(60, 64, 67, 0.15);\n",
              "      fill: #174EA6;\n",
              "    }\n",
              "\n",
              "    .colab-df-buttons div {\n",
              "      margin-bottom: 4px;\n",
              "    }\n",
              "\n",
              "    [theme=dark] .colab-df-convert {\n",
              "      background-color: #3B4455;\n",
              "      fill: #D2E3FC;\n",
              "    }\n",
              "\n",
              "    [theme=dark] .colab-df-convert:hover {\n",
              "      background-color: #434B5C;\n",
              "      box-shadow: 0px 1px 3px 1px rgba(0, 0, 0, 0.15);\n",
              "      filter: drop-shadow(0px 1px 2px rgba(0, 0, 0, 0.3));\n",
              "      fill: #FFFFFF;\n",
              "    }\n",
              "  </style>\n",
              "\n",
              "    <script>\n",
              "      const buttonEl =\n",
              "        document.querySelector('#df-f7997a92-c0a0-411b-9d73-76a00d937662 button.colab-df-convert');\n",
              "      buttonEl.style.display =\n",
              "        google.colab.kernel.accessAllowed ? 'block' : 'none';\n",
              "\n",
              "      async function convertToInteractive(key) {\n",
              "        const element = document.querySelector('#df-f7997a92-c0a0-411b-9d73-76a00d937662');\n",
              "        const dataTable =\n",
              "          await google.colab.kernel.invokeFunction('convertToInteractive',\n",
              "                                                    [key], {});\n",
              "        if (!dataTable) return;\n",
              "\n",
              "        const docLinkHtml = 'Like what you see? Visit the ' +\n",
              "          '<a target=\"_blank\" href=https://colab.research.google.com/notebooks/data_table.ipynb>data table notebook</a>'\n",
              "          + ' to learn more about interactive tables.';\n",
              "        element.innerHTML = '';\n",
              "        dataTable['output_type'] = 'display_data';\n",
              "        await google.colab.output.renderOutput(dataTable, element);\n",
              "        const docLink = document.createElement('div');\n",
              "        docLink.innerHTML = docLinkHtml;\n",
              "        element.appendChild(docLink);\n",
              "      }\n",
              "    </script>\n",
              "  </div>\n",
              "\n",
              "\n",
              "<div id=\"df-ab924dbd-c3d2-4113-95fd-25ae9d83368a\">\n",
              "  <button class=\"colab-df-quickchart\" onclick=\"quickchart('df-ab924dbd-c3d2-4113-95fd-25ae9d83368a')\"\n",
              "            title=\"Suggest charts.\"\n",
              "            style=\"display:none;\">\n",
              "\n",
              "<svg xmlns=\"http://www.w3.org/2000/svg\" height=\"24px\"viewBox=\"0 0 24 24\"\n",
              "     width=\"24px\">\n",
              "    <g>\n",
              "        <path d=\"M19 3H5c-1.1 0-2 .9-2 2v14c0 1.1.9 2 2 2h14c1.1 0 2-.9 2-2V5c0-1.1-.9-2-2-2zM9 17H7v-7h2v7zm4 0h-2V7h2v10zm4 0h-2v-4h2v4z\"/>\n",
              "    </g>\n",
              "</svg>\n",
              "  </button>\n",
              "\n",
              "<style>\n",
              "  .colab-df-quickchart {\n",
              "    background-color: #E8F0FE;\n",
              "    border: none;\n",
              "    border-radius: 50%;\n",
              "    cursor: pointer;\n",
              "    display: none;\n",
              "    fill: #1967D2;\n",
              "    height: 32px;\n",
              "    padding: 0 0 0 0;\n",
              "    width: 32px;\n",
              "  }\n",
              "\n",
              "  .colab-df-quickchart:hover {\n",
              "    background-color: #E2EBFA;\n",
              "    box-shadow: 0px 1px 2px rgba(60, 64, 67, 0.3), 0px 1px 3px 1px rgba(60, 64, 67, 0.15);\n",
              "    fill: #174EA6;\n",
              "  }\n",
              "\n",
              "  [theme=dark] .colab-df-quickchart {\n",
              "    background-color: #3B4455;\n",
              "    fill: #D2E3FC;\n",
              "  }\n",
              "\n",
              "  [theme=dark] .colab-df-quickchart:hover {\n",
              "    background-color: #434B5C;\n",
              "    box-shadow: 0px 1px 3px 1px rgba(0, 0, 0, 0.15);\n",
              "    filter: drop-shadow(0px 1px 2px rgba(0, 0, 0, 0.3));\n",
              "    fill: #FFFFFF;\n",
              "  }\n",
              "</style>\n",
              "\n",
              "  <script>\n",
              "    async function quickchart(key) {\n",
              "      const charts = await google.colab.kernel.invokeFunction(\n",
              "          'suggestCharts', [key], {});\n",
              "    }\n",
              "    (() => {\n",
              "      let quickchartButtonEl =\n",
              "        document.querySelector('#df-ab924dbd-c3d2-4113-95fd-25ae9d83368a button');\n",
              "      quickchartButtonEl.style.display =\n",
              "        google.colab.kernel.accessAllowed ? 'block' : 'none';\n",
              "    })();\n",
              "  </script>\n",
              "</div>\n",
              "    </div>\n",
              "  </div>\n"
            ]
          },
          "metadata": {},
          "execution_count": 20
        }
      ]
    },
    {
      "cell_type": "code",
      "source": [
        "training_data = df.iloc[:,1:2].values\n",
        "training_data"
      ],
      "metadata": {
        "colab": {
          "base_uri": "https://localhost:8080/"
        },
        "id": "7APLuqqIZwlv",
        "outputId": "4a093d42-0c1d-4d76-bca2-00dee4025e8f"
      },
      "execution_count": 7,
      "outputs": [
        {
          "output_type": "execute_result",
          "data": {
            "text/plain": [
              "array([[325.25],\n",
              "       [331.27],\n",
              "       [329.83],\n",
              "       ...,\n",
              "       [793.7 ],\n",
              "       [783.33],\n",
              "       [782.75]])"
            ]
          },
          "metadata": {},
          "execution_count": 7
        }
      ]
    },
    {
      "cell_type": "code",
      "source": [
        "sc = MinMaxScaler(feature_range=(0,1))"
      ],
      "metadata": {
        "id": "krfaBGqZaOnP"
      },
      "execution_count": 8,
      "outputs": []
    },
    {
      "cell_type": "code",
      "source": [
        "training_set_scaled = sc.fit_transform(training_data)"
      ],
      "metadata": {
        "id": "19q4HPpdaap2"
      },
      "execution_count": 9,
      "outputs": []
    },
    {
      "cell_type": "code",
      "source": [
        "training_set_scaled"
      ],
      "metadata": {
        "colab": {
          "base_uri": "https://localhost:8080/"
        },
        "id": "trMHNwCBpQQw",
        "outputId": "af20a877-9499-4c06-8170-1ca8587deef4"
      },
      "execution_count": 32,
      "outputs": [
        {
          "output_type": "execute_result",
          "data": {
            "text/plain": [
              "array([[0.08581368],\n",
              "       [0.09701243],\n",
              "       [0.09433366],\n",
              "       ...,\n",
              "       [0.95725128],\n",
              "       [0.93796041],\n",
              "       [0.93688146]])"
            ]
          },
          "metadata": {},
          "execution_count": 32
        }
      ]
    },
    {
      "cell_type": "code",
      "source": [
        "x_train = []\n",
        "y_train = []\n",
        "for i in range (60,1258):\n",
        "  x_train.append(training_set_scaled[i-60:i,0])\n",
        "  y_train.append(training_set_scaled[i,0])"
      ],
      "metadata": {
        "id": "VsjQQt5Zal7c"
      },
      "execution_count": 10,
      "outputs": []
    },
    {
      "cell_type": "code",
      "source": [
        "x_train,y_train = np.array(x_train),np.array(y_train)"
      ],
      "metadata": {
        "id": "td-NrT0wbsg7"
      },
      "execution_count": 11,
      "outputs": []
    },
    {
      "cell_type": "code",
      "source": [
        "x_train"
      ],
      "metadata": {
        "colab": {
          "base_uri": "https://localhost:8080/"
        },
        "id": "-_m-vYeqb8Xn",
        "outputId": "7b71cae0-b004-4266-f240-315cb1316735"
      },
      "execution_count": 12,
      "outputs": [
        {
          "output_type": "execute_result",
          "data": {
            "text/plain": [
              "array([[0.08581368, 0.09701243, 0.09433366, ..., 0.07846566, 0.08034452,\n",
              "        0.08497656],\n",
              "       [0.09701243, 0.09433366, 0.09156187, ..., 0.08034452, 0.08497656,\n",
              "        0.08627874],\n",
              "       [0.09433366, 0.09156187, 0.07984225, ..., 0.08497656, 0.08627874,\n",
              "        0.08471612],\n",
              "       ...,\n",
              "       [0.92106928, 0.92438053, 0.93048218, ..., 0.95475854, 0.95204256,\n",
              "        0.95163331],\n",
              "       [0.92438053, 0.93048218, 0.9299055 , ..., 0.95204256, 0.95163331,\n",
              "        0.95725128],\n",
              "       [0.93048218, 0.9299055 , 0.93113327, ..., 0.95163331, 0.95725128,\n",
              "        0.93796041]])"
            ]
          },
          "metadata": {},
          "execution_count": 12
        }
      ]
    },
    {
      "cell_type": "code",
      "source": [
        "y_train"
      ],
      "metadata": {
        "colab": {
          "base_uri": "https://localhost:8080/"
        },
        "id": "5O_ntA_3b8a3",
        "outputId": "02ef08d6-8600-4619-a17b-552c45ec9eb1"
      },
      "execution_count": 13,
      "outputs": [
        {
          "output_type": "execute_result",
          "data": {
            "text/plain": [
              "array([0.08627874, 0.08471612, 0.07454052, ..., 0.95725128, 0.93796041,\n",
              "       0.93688146])"
            ]
          },
          "metadata": {},
          "execution_count": 13
        }
      ]
    },
    {
      "cell_type": "code",
      "source": [],
      "metadata": {
        "id": "sypMv7zgu3In"
      },
      "execution_count": null,
      "outputs": []
    },
    {
      "cell_type": "code",
      "source": [
        "x_train = np.reshape(x_train,(x_train.shape[0],x_train.shape[1],1))"
      ],
      "metadata": {
        "id": "br-7URntb8dI"
      },
      "execution_count": 14,
      "outputs": []
    },
    {
      "cell_type": "code",
      "source": [
        "x_train"
      ],
      "metadata": {
        "colab": {
          "base_uri": "https://localhost:8080/"
        },
        "id": "U22QFLpBcQcj",
        "outputId": "596245fe-487d-46ae-9f34-ab0094805330"
      },
      "execution_count": 15,
      "outputs": [
        {
          "output_type": "execute_result",
          "data": {
            "text/plain": [
              "array([[[0.08581368],\n",
              "        [0.09701243],\n",
              "        [0.09433366],\n",
              "        ...,\n",
              "        [0.07846566],\n",
              "        [0.08034452],\n",
              "        [0.08497656]],\n",
              "\n",
              "       [[0.09701243],\n",
              "        [0.09433366],\n",
              "        [0.09156187],\n",
              "        ...,\n",
              "        [0.08034452],\n",
              "        [0.08497656],\n",
              "        [0.08627874]],\n",
              "\n",
              "       [[0.09433366],\n",
              "        [0.09156187],\n",
              "        [0.07984225],\n",
              "        ...,\n",
              "        [0.08497656],\n",
              "        [0.08627874],\n",
              "        [0.08471612]],\n",
              "\n",
              "       ...,\n",
              "\n",
              "       [[0.92106928],\n",
              "        [0.92438053],\n",
              "        [0.93048218],\n",
              "        ...,\n",
              "        [0.95475854],\n",
              "        [0.95204256],\n",
              "        [0.95163331]],\n",
              "\n",
              "       [[0.92438053],\n",
              "        [0.93048218],\n",
              "        [0.9299055 ],\n",
              "        ...,\n",
              "        [0.95204256],\n",
              "        [0.95163331],\n",
              "        [0.95725128]],\n",
              "\n",
              "       [[0.93048218],\n",
              "        [0.9299055 ],\n",
              "        [0.93113327],\n",
              "        ...,\n",
              "        [0.95163331],\n",
              "        [0.95725128],\n",
              "        [0.93796041]]])"
            ]
          },
          "metadata": {},
          "execution_count": 15
        }
      ]
    },
    {
      "cell_type": "code",
      "source": [
        "regressor_stock = Sequential()"
      ],
      "metadata": {
        "id": "nKeMJdTEcahv"
      },
      "execution_count": 16,
      "outputs": []
    },
    {
      "cell_type": "code",
      "source": [
        "regressor_stock.add(LSTM(units=50,return_sequences=True,input_shape=(x_train.shape[1],1)))\n",
        "\n",
        "regressor_stock.add(Dropout(0.2))\n",
        "regressor_stock.add(LSTM(units=50,return_sequences=True))\n",
        "\n",
        "regressor_stock.add(Dropout(0.2))\n",
        "regressor_stock.add(LSTM(units=50,return_sequences=True))\n",
        "\n",
        "regressor_stock.add(Dropout(0.2))\n",
        "regressor_stock.add(LSTM(units=50))\n",
        "\n",
        "regressor_stock.add(Dropout(0.2))\n",
        "regressor_stock.add(Dense(units=1))\n"
      ],
      "metadata": {
        "id": "xVStt5Occs6t"
      },
      "execution_count": 18,
      "outputs": []
    },
    {
      "cell_type": "code",
      "source": [
        "regressor_stock.compile(optimizer='adam',loss='mean_absolute_error')\n",
        "regressor_stock.fit(x_train,y_train,epochs=100,batch_size=32)"
      ],
      "metadata": {
        "colab": {
          "base_uri": "https://localhost:8080/"
        },
        "id": "mLiiMATvdJWt",
        "outputId": "5049d16b-ff7c-4a37-bc37-2c7bd3039dab"
      },
      "execution_count": 19,
      "outputs": [
        {
          "output_type": "stream",
          "name": "stdout",
          "text": [
            "Epoch 1/100\n",
            "38/38 [==============================] - 18s 171ms/step - loss: 0.1261\n",
            "Epoch 2/100\n",
            "38/38 [==============================] - 8s 199ms/step - loss: 0.0644\n",
            "Epoch 3/100\n",
            "38/38 [==============================] - 6s 165ms/step - loss: 0.0626\n",
            "Epoch 4/100\n",
            "38/38 [==============================] - 8s 199ms/step - loss: 0.0571\n",
            "Epoch 5/100\n",
            "38/38 [==============================] - 8s 200ms/step - loss: 0.0572\n",
            "Epoch 6/100\n",
            "38/38 [==============================] - 11s 283ms/step - loss: 0.0607\n",
            "Epoch 7/100\n",
            "38/38 [==============================] - 9s 229ms/step - loss: 0.0582\n",
            "Epoch 8/100\n",
            "38/38 [==============================] - 6s 167ms/step - loss: 0.0505\n",
            "Epoch 9/100\n",
            "38/38 [==============================] - 8s 199ms/step - loss: 0.0476\n",
            "Epoch 10/100\n",
            "38/38 [==============================] - 7s 189ms/step - loss: 0.0527\n",
            "Epoch 11/100\n",
            "38/38 [==============================] - 10s 263ms/step - loss: 0.0451\n",
            "Epoch 12/100\n",
            "38/38 [==============================] - 12s 320ms/step - loss: 0.0515\n",
            "Epoch 13/100\n",
            "38/38 [==============================] - 9s 232ms/step - loss: 0.0442\n",
            "Epoch 14/100\n",
            "38/38 [==============================] - 6s 165ms/step - loss: 0.0495\n",
            "Epoch 15/100\n",
            "38/38 [==============================] - 9s 232ms/step - loss: 0.0429\n",
            "Epoch 16/100\n",
            "38/38 [==============================] - 7s 181ms/step - loss: 0.0434\n",
            "Epoch 17/100\n",
            "38/38 [==============================] - 8s 216ms/step - loss: 0.0447\n",
            "Epoch 18/100\n",
            "38/38 [==============================] - 10s 255ms/step - loss: 0.0406\n",
            "Epoch 19/100\n",
            "38/38 [==============================] - 8s 203ms/step - loss: 0.0437\n",
            "Epoch 20/100\n",
            "38/38 [==============================] - 13s 345ms/step - loss: 0.0424\n",
            "Epoch 21/100\n",
            "38/38 [==============================] - 13s 327ms/step - loss: 0.0417\n",
            "Epoch 22/100\n",
            "38/38 [==============================] - 14s 360ms/step - loss: 0.0452\n",
            "Epoch 23/100\n",
            "38/38 [==============================] - 7s 187ms/step - loss: 0.0401\n",
            "Epoch 24/100\n",
            "38/38 [==============================] - 9s 241ms/step - loss: 0.0394\n",
            "Epoch 25/100\n",
            "38/38 [==============================] - 9s 229ms/step - loss: 0.0406\n",
            "Epoch 26/100\n",
            "38/38 [==============================] - 8s 198ms/step - loss: 0.0405\n",
            "Epoch 27/100\n",
            "38/38 [==============================] - 10s 276ms/step - loss: 0.0401\n",
            "Epoch 28/100\n",
            "38/38 [==============================] - 7s 185ms/step - loss: 0.0458\n",
            "Epoch 29/100\n",
            "38/38 [==============================] - 9s 232ms/step - loss: 0.0417\n",
            "Epoch 30/100\n",
            "38/38 [==============================] - 8s 215ms/step - loss: 0.0386\n",
            "Epoch 31/100\n",
            "38/38 [==============================] - 9s 248ms/step - loss: 0.0384\n",
            "Epoch 32/100\n",
            "38/38 [==============================] - 11s 280ms/step - loss: 0.0380\n",
            "Epoch 33/100\n",
            "38/38 [==============================] - 10s 272ms/step - loss: 0.0397\n",
            "Epoch 34/100\n",
            "38/38 [==============================] - 13s 353ms/step - loss: 0.0411\n",
            "Epoch 35/100\n",
            "38/38 [==============================] - 9s 234ms/step - loss: 0.0379\n",
            "Epoch 36/100\n",
            "38/38 [==============================] - 12s 327ms/step - loss: 0.0396\n",
            "Epoch 37/100\n",
            "38/38 [==============================] - 10s 269ms/step - loss: 0.0370\n",
            "Epoch 38/100\n",
            "38/38 [==============================] - 11s 296ms/step - loss: 0.0355\n",
            "Epoch 39/100\n",
            "38/38 [==============================] - 10s 254ms/step - loss: 0.0342\n",
            "Epoch 40/100\n",
            "38/38 [==============================] - 8s 214ms/step - loss: 0.0349\n",
            "Epoch 41/100\n",
            "38/38 [==============================] - 9s 241ms/step - loss: 0.0369\n",
            "Epoch 42/100\n",
            "38/38 [==============================] - 10s 254ms/step - loss: 0.0364\n",
            "Epoch 43/100\n",
            "38/38 [==============================] - 11s 286ms/step - loss: 0.0360\n",
            "Epoch 44/100\n",
            "38/38 [==============================] - 14s 371ms/step - loss: 0.0331\n",
            "Epoch 45/100\n",
            "38/38 [==============================] - 9s 224ms/step - loss: 0.0365\n",
            "Epoch 46/100\n",
            "38/38 [==============================] - 7s 186ms/step - loss: 0.0330\n",
            "Epoch 47/100\n",
            "38/38 [==============================] - 7s 190ms/step - loss: 0.0424\n",
            "Epoch 48/100\n",
            "38/38 [==============================] - 7s 180ms/step - loss: 0.0349\n",
            "Epoch 49/100\n",
            "38/38 [==============================] - 8s 200ms/step - loss: 0.0337\n",
            "Epoch 50/100\n",
            "38/38 [==============================] - 6s 166ms/step - loss: 0.0327\n",
            "Epoch 51/100\n",
            "38/38 [==============================] - 8s 199ms/step - loss: 0.0361\n",
            "Epoch 52/100\n",
            "38/38 [==============================] - 6s 165ms/step - loss: 0.0342\n",
            "Epoch 53/100\n",
            "38/38 [==============================] - 10s 254ms/step - loss: 0.0339\n",
            "Epoch 54/100\n",
            "38/38 [==============================] - 10s 278ms/step - loss: 0.0342\n",
            "Epoch 55/100\n",
            "38/38 [==============================] - 10s 261ms/step - loss: 0.0324\n",
            "Epoch 56/100\n",
            "38/38 [==============================] - 11s 278ms/step - loss: 0.0325\n",
            "Epoch 57/100\n",
            "38/38 [==============================] - 10s 254ms/step - loss: 0.0379\n",
            "Epoch 58/100\n",
            "38/38 [==============================] - 9s 237ms/step - loss: 0.0320\n",
            "Epoch 59/100\n",
            "38/38 [==============================] - 6s 164ms/step - loss: 0.0297\n",
            "Epoch 60/100\n",
            "38/38 [==============================] - 10s 261ms/step - loss: 0.0297\n",
            "Epoch 61/100\n",
            "38/38 [==============================] - 11s 296ms/step - loss: 0.0345\n",
            "Epoch 62/100\n",
            "38/38 [==============================] - 9s 246ms/step - loss: 0.0308\n",
            "Epoch 63/100\n",
            "38/38 [==============================] - 12s 310ms/step - loss: 0.0313\n",
            "Epoch 64/100\n",
            "38/38 [==============================] - 8s 207ms/step - loss: 0.0316\n",
            "Epoch 65/100\n",
            "38/38 [==============================] - 7s 178ms/step - loss: 0.0300\n",
            "Epoch 66/100\n",
            "38/38 [==============================] - 8s 199ms/step - loss: 0.0306\n",
            "Epoch 67/100\n",
            "38/38 [==============================] - 9s 240ms/step - loss: 0.0288\n",
            "Epoch 68/100\n",
            "38/38 [==============================] - 11s 298ms/step - loss: 0.0306\n",
            "Epoch 69/100\n",
            "38/38 [==============================] - 9s 228ms/step - loss: 0.0294\n",
            "Epoch 70/100\n",
            "38/38 [==============================] - 8s 220ms/step - loss: 0.0313\n",
            "Epoch 71/100\n",
            "38/38 [==============================] - 7s 185ms/step - loss: 0.0283\n",
            "Epoch 72/100\n",
            "38/38 [==============================] - 11s 287ms/step - loss: 0.0290\n",
            "Epoch 73/100\n",
            "38/38 [==============================] - 10s 260ms/step - loss: 0.0283\n",
            "Epoch 74/100\n",
            "38/38 [==============================] - 11s 295ms/step - loss: 0.0291\n",
            "Epoch 75/100\n",
            "38/38 [==============================] - 8s 201ms/step - loss: 0.0291\n",
            "Epoch 76/100\n",
            "38/38 [==============================] - 12s 307ms/step - loss: 0.0306\n",
            "Epoch 77/100\n",
            "38/38 [==============================] - 16s 416ms/step - loss: 0.0269\n",
            "Epoch 78/100\n",
            "38/38 [==============================] - 10s 253ms/step - loss: 0.0297\n",
            "Epoch 79/100\n",
            "38/38 [==============================] - 10s 252ms/step - loss: 0.0283\n",
            "Epoch 80/100\n",
            "38/38 [==============================] - 9s 241ms/step - loss: 0.0282\n",
            "Epoch 81/100\n",
            "38/38 [==============================] - 10s 277ms/step - loss: 0.0276\n",
            "Epoch 82/100\n",
            "38/38 [==============================] - 7s 185ms/step - loss: 0.0284\n",
            "Epoch 83/100\n",
            "38/38 [==============================] - 8s 199ms/step - loss: 0.0280\n",
            "Epoch 84/100\n",
            "38/38 [==============================] - 8s 210ms/step - loss: 0.0277\n",
            "Epoch 85/100\n",
            "38/38 [==============================] - 10s 270ms/step - loss: 0.0283\n",
            "Epoch 86/100\n",
            "38/38 [==============================] - 10s 257ms/step - loss: 0.0263\n",
            "Epoch 87/100\n",
            "38/38 [==============================] - 11s 287ms/step - loss: 0.0265\n",
            "Epoch 88/100\n",
            "38/38 [==============================] - 9s 249ms/step - loss: 0.0281\n",
            "Epoch 89/100\n",
            "38/38 [==============================] - 12s 329ms/step - loss: 0.0282\n",
            "Epoch 90/100\n",
            "38/38 [==============================] - 10s 275ms/step - loss: 0.0258\n",
            "Epoch 91/100\n",
            "38/38 [==============================] - 11s 295ms/step - loss: 0.0263\n",
            "Epoch 92/100\n",
            "38/38 [==============================] - 12s 326ms/step - loss: 0.0283\n",
            "Epoch 93/100\n",
            "38/38 [==============================] - 11s 291ms/step - loss: 0.0270\n",
            "Epoch 94/100\n",
            "38/38 [==============================] - 16s 415ms/step - loss: 0.0243\n",
            "Epoch 95/100\n",
            "38/38 [==============================] - 15s 403ms/step - loss: 0.0286\n",
            "Epoch 96/100\n",
            "38/38 [==============================] - 13s 342ms/step - loss: 0.0258\n",
            "Epoch 97/100\n",
            "38/38 [==============================] - 14s 375ms/step - loss: 0.0270\n",
            "Epoch 98/100\n",
            "38/38 [==============================] - 10s 248ms/step - loss: 0.0251\n",
            "Epoch 99/100\n",
            "38/38 [==============================] - 6s 167ms/step - loss: 0.0257\n",
            "Epoch 100/100\n",
            "38/38 [==============================] - 13s 346ms/step - loss: 0.0282\n"
          ]
        },
        {
          "output_type": "execute_result",
          "data": {
            "text/plain": [
              "<keras.callbacks.History at 0x7bf6747fdf30>"
            ]
          },
          "metadata": {},
          "execution_count": 19
        }
      ]
    },
    {
      "cell_type": "code",
      "source": [
        "real_stock_price = dataset_test.iloc[:,1:2].values"
      ],
      "metadata": {
        "id": "w2UeRpWsfPPM"
      },
      "execution_count": 21,
      "outputs": []
    },
    {
      "cell_type": "code",
      "source": [
        "dataset_total = pd.concat((df['Open'],dataset_test['Open']),axis=0)"
      ],
      "metadata": {
        "id": "HsO06mEbfz1D"
      },
      "execution_count": 22,
      "outputs": []
    },
    {
      "cell_type": "code",
      "source": [
        "len(dataset_total)"
      ],
      "metadata": {
        "colab": {
          "base_uri": "https://localhost:8080/"
        },
        "id": "t5R6rd0Ou6K2",
        "outputId": "8197f740-289a-40dc-fafa-1fa953be468c"
      },
      "execution_count": 33,
      "outputs": [
        {
          "output_type": "execute_result",
          "data": {
            "text/plain": [
              "1278"
            ]
          },
          "metadata": {},
          "execution_count": 33
        }
      ]
    },
    {
      "cell_type": "code",
      "source": [
        "len(dataset_test)"
      ],
      "metadata": {
        "colab": {
          "base_uri": "https://localhost:8080/"
        },
        "id": "KPth0mqXu9q9",
        "outputId": "2a9c804d-ee1d-4a12-bfc4-bff2c81deaff"
      },
      "execution_count": 36,
      "outputs": [
        {
          "output_type": "execute_result",
          "data": {
            "text/plain": [
              "20"
            ]
          },
          "metadata": {},
          "execution_count": 36
        }
      ]
    },
    {
      "cell_type": "code",
      "source": [
        "inputs = dataset_total[len(dataset_total)-len(dataset_test)-60:].values"
      ],
      "metadata": {
        "id": "zeABTuUGgUx7"
      },
      "execution_count": 23,
      "outputs": []
    },
    {
      "cell_type": "code",
      "source": [
        "inputs"
      ],
      "metadata": {
        "colab": {
          "base_uri": "https://localhost:8080/"
        },
        "id": "hlsYXv5ugnnI",
        "outputId": "18a530f4-33cf-48b4-d242-e5b58b46647e"
      },
      "execution_count": 24,
      "outputs": [
        {
          "output_type": "execute_result",
          "data": {
            "text/plain": [
              "array([779.  , 779.66, 777.71, 786.66, 783.76, 781.22, 781.65, 779.8 ,\n",
              "       787.85, 798.24, 803.3 , 795.  , 804.9 , 816.68, 806.34, 801.  ,\n",
              "       808.35, 795.47, 782.89, 778.2 , 767.25, 750.66, 774.5 , 783.4 ,\n",
              "       779.94, 791.17, 756.54, 755.6 , 746.97, 755.2 , 766.92, 771.37,\n",
              "       762.61, 772.63, 767.73, 764.26, 760.  , 771.53, 770.07, 757.44,\n",
              "       744.59, 757.71, 764.73, 761.  , 772.48, 780.  , 785.04, 793.9 ,\n",
              "       797.4 , 797.34, 800.4 , 790.22, 796.76, 795.84, 792.36, 790.9 ,\n",
              "       790.68, 793.7 , 783.33, 782.75, 778.81, 788.36, 786.08, 795.26,\n",
              "       806.4 , 807.86, 805.  , 807.14, 807.48, 807.08, 805.81, 805.12,\n",
              "       806.91, 807.25, 822.3 , 829.62, 837.81, 834.71, 814.66, 796.86])"
            ]
          },
          "metadata": {},
          "execution_count": 24
        }
      ]
    },
    {
      "cell_type": "code",
      "source": [
        "inputs = inputs.reshape(-1,1)\n",
        "inputs = sc.transform(inputs)\n",
        "inputs"
      ],
      "metadata": {
        "colab": {
          "base_uri": "https://localhost:8080/"
        },
        "id": "FlAC2IEfgpXx",
        "outputId": "0893d05a-512e-4b04-fc28-d91025d5b340"
      },
      "execution_count": 25,
      "outputs": [
        {
          "output_type": "execute_result",
          "data": {
            "text/plain": [
              "array([[0.9299055 ],\n",
              "       [0.93113327],\n",
              "       [0.92750577],\n",
              "       [0.94415507],\n",
              "       [0.93876032],\n",
              "       [0.93403527],\n",
              "       [0.93483518],\n",
              "       [0.9313937 ],\n",
              "       [0.94636878],\n",
              "       [0.96569685],\n",
              "       [0.97510976],\n",
              "       [0.95966962],\n",
              "       [0.97808617],\n",
              "       [1.        ],\n",
              "       [0.98076494],\n",
              "       [0.97083116],\n",
              "       [0.98450406],\n",
              "       [0.96054394],\n",
              "       [0.9371419 ],\n",
              "       [0.92841729],\n",
              "       [0.90804747],\n",
              "       [0.8771858 ],\n",
              "       [0.92153434],\n",
              "       [0.93809063],\n",
              "       [0.93165414],\n",
              "       [0.95254483],\n",
              "       [0.88812412],\n",
              "       [0.88637547],\n",
              "       [0.87032145],\n",
              "       [0.88563137],\n",
              "       [0.90743359],\n",
              "       [0.91571173],\n",
              "       [0.89941588],\n",
              "       [0.91805566],\n",
              "       [0.9089404 ],\n",
              "       [0.9024853 ],\n",
              "       [0.89456061],\n",
              "       [0.91600938],\n",
              "       [0.9132934 ],\n",
              "       [0.88979835],\n",
              "       [0.86589404],\n",
              "       [0.89030062],\n",
              "       [0.90335962],\n",
              "       [0.89642086],\n",
              "       [0.91777662],\n",
              "       [0.93176576],\n",
              "       [0.94114145],\n",
              "       [0.95762334],\n",
              "       [0.96413424],\n",
              "       [0.96402262],\n",
              "       [0.96971501],\n",
              "       [0.95077759],\n",
              "       [0.96294367],\n",
              "       [0.96123223],\n",
              "       [0.95475854],\n",
              "       [0.95204256],\n",
              "       [0.95163331],\n",
              "       [0.95725128],\n",
              "       [0.93796041],\n",
              "       [0.93688146],\n",
              "       [0.92955205],\n",
              "       [0.94731751],\n",
              "       [0.94307612],\n",
              "       [0.96015329],\n",
              "       [0.98087655],\n",
              "       [0.98359253],\n",
              "       [0.97827219],\n",
              "       [0.98225314],\n",
              "       [0.98288563],\n",
              "       [0.98214153],\n",
              "       [0.979779  ],\n",
              "       [0.97849542],\n",
              "       [0.98182528],\n",
              "       [0.98245777],\n",
              "       [1.01045465],\n",
              "       [1.02407173],\n",
              "       [1.03930724],\n",
              "       [1.03354044],\n",
              "       [0.99624228],\n",
              "       [0.9631297 ]])"
            ]
          },
          "metadata": {},
          "execution_count": 25
        }
      ]
    },
    {
      "cell_type": "code",
      "source": [
        "x_test = []\n",
        "for i in range(60,80):\n",
        "  x_test.append(inputs[i-60:i,0])\n",
        "\n",
        "x_test = np.array(x_test)\n",
        "x_test"
      ],
      "metadata": {
        "colab": {
          "base_uri": "https://localhost:8080/"
        },
        "id": "biYYsXyJhFRC",
        "outputId": "9a3ad45d-7997-4273-c30d-8837cc1ad4d9"
      },
      "execution_count": 27,
      "outputs": [
        {
          "output_type": "execute_result",
          "data": {
            "text/plain": [
              "array([[0.9299055 , 0.93113327, 0.92750577, ..., 0.95725128, 0.93796041,\n",
              "        0.93688146],\n",
              "       [0.93113327, 0.92750577, 0.94415507, ..., 0.93796041, 0.93688146,\n",
              "        0.92955205],\n",
              "       [0.92750577, 0.94415507, 0.93876032, ..., 0.93688146, 0.92955205,\n",
              "        0.94731751],\n",
              "       ...,\n",
              "       [0.96054394, 0.9371419 , 0.92841729, ..., 1.01045465, 1.02407173,\n",
              "        1.03930724],\n",
              "       [0.9371419 , 0.92841729, 0.90804747, ..., 1.02407173, 1.03930724,\n",
              "        1.03354044],\n",
              "       [0.92841729, 0.90804747, 0.8771858 , ..., 1.03930724, 1.03354044,\n",
              "        0.99624228]])"
            ]
          },
          "metadata": {},
          "execution_count": 27
        }
      ]
    },
    {
      "cell_type": "code",
      "source": [
        "x_test = np.reshape(x_test,(x_test.shape[0],x_test.shape[1],1))"
      ],
      "metadata": {
        "id": "goLuaelMhxPB"
      },
      "execution_count": 28,
      "outputs": []
    },
    {
      "cell_type": "code",
      "source": [
        "predicted_stock_price = regressor_stock.predict(x_test)"
      ],
      "metadata": {
        "colab": {
          "base_uri": "https://localhost:8080/"
        },
        "id": "kWsL3IHyiM_R",
        "outputId": "74ce805e-2d39-45b7-8f21-8399d887f2db"
      },
      "execution_count": 29,
      "outputs": [
        {
          "output_type": "stream",
          "name": "stdout",
          "text": [
            "1/1 [==============================] - 2s 2s/step\n"
          ]
        }
      ]
    },
    {
      "cell_type": "code",
      "source": [
        "real_predictions = sc.inverse_transform(predicted_stock_price)"
      ],
      "metadata": {
        "id": "zpxznlf4iZ9i"
      },
      "execution_count": 30,
      "outputs": []
    },
    {
      "cell_type": "code",
      "source": [
        "plt.plot(real_stock_price,c='r',label=\"Real price\")\n",
        "plt.plot(real_predictions,c='g',label=\"Predicted price\")\n",
        "plt.legend()"
      ],
      "metadata": {
        "colab": {
          "base_uri": "https://localhost:8080/",
          "height": 448
        },
        "id": "DIi88He-ikAM",
        "outputId": "516f8799-7f18-45e4-8cdd-49be8f90059c"
      },
      "execution_count": 31,
      "outputs": [
        {
          "output_type": "execute_result",
          "data": {
            "text/plain": [
              "<matplotlib.legend.Legend at 0x7bf674e47760>"
            ]
          },
          "metadata": {},
          "execution_count": 31
        },
        {
          "output_type": "display_data",
          "data": {
            "text/plain": [
              "<Figure size 640x480 with 1 Axes>"
            ],
            "image/png": "[encoded data removed]"
          },
          "metadata": {}
        }
      ]
    }
  ]
}