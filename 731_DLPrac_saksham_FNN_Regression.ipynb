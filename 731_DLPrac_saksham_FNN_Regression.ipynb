{
 "cells": [
  {
   "cell_type": "code",
   "execution_count": 1,
   "id": "00da6a52",
   "metadata": {},
   "outputs": [],
   "source": [
    "import pandas as pd\n",
    "from keras.models import Sequential# supervised\n",
    "from keras.layers import Dense\n",
    "import numpy as np\n",
    "from sklearn.model_selection import train_test_split"
   ]
  },
  {
   "cell_type": "code",
   "execution_count": 2,
   "id": "a8ed2c51",
   "metadata": {},
   "outputs": [
    {
     "data": {
      "text/plain": [
       "array([[0.5488135 , 0.71518937],\n",
       "       [0.60276338, 0.54488318],\n",
       "       [0.4236548 , 0.64589411],\n",
       "       [0.43758721, 0.891773  ],\n",
       "       [0.96366276, 0.38344152]])"
      ]
     },
     "execution_count": 2,
     "metadata": {},
     "output_type": "execute_result"
    }
   ],
   "source": [
    "np.random.seed(0)\n",
    "x = np.random.rand(20,2) # Vectors will be generated\n",
    "x[0:5]"
   ]
  },
  {
   "cell_type": "code",
   "execution_count": 3,
   "id": "53312642",
   "metadata": {},
   "outputs": [],
   "source": [
    "def true_func(x):\n",
    "    return x[:,0] * x[:,1]"
   ]
  },
  {
   "cell_type": "code",
   "execution_count": 4,
   "id": "fc13f373",
   "metadata": {},
   "outputs": [],
   "source": [
    "y = true_func(x)"
   ]
  },
  {
   "cell_type": "code",
   "execution_count": 5,
   "id": "435ca4de",
   "metadata": {},
   "outputs": [
    {
     "data": {
      "text/plain": [
       "array([0.39250558, 0.32843563, 0.27363614, 0.39022846, 0.36950831])"
      ]
     },
     "execution_count": 5,
     "metadata": {},
     "output_type": "execute_result"
    }
   ],
   "source": [
    "y[0:5]"
   ]
  },
  {
   "cell_type": "code",
   "execution_count": 6,
   "id": "988dc365",
   "metadata": {},
   "outputs": [],
   "source": [
    "xtrain,xtest,ytrain,ytest = train_test_split(x,y,test_size=0.2,random_state=1)\n"
   ]
  },
  {
   "cell_type": "code",
   "execution_count": 7,
   "id": "26676f2c",
   "metadata": {},
   "outputs": [],
   "source": [
    "model=Sequential()\n",
    "model.add(Dense(15,input_dim=2,activation='relu')) \n",
    "model.add(Dense(1,activation='linear')) # same as identity fuction"
   ]
  },
  {
   "cell_type": "code",
   "execution_count": 8,
   "id": "225f1a64",
   "metadata": {},
   "outputs": [],
   "source": [
    "model.compile(loss='mean_squared_error',optimizer='adam',metrics='mean_absolute_error') "
   ]
  },
  {
   "cell_type": "code",
   "execution_count": 9,
   "id": "a104a578",
   "metadata": {
    "scrolled": false
   },
   "outputs": [
    {
     "name": "stdout",
     "output_type": "stream",
     "text": [
      "Epoch 1/150\n",
      "1/1 [==============================] - 0s 382ms/step - loss: 0.0417 - mean_absolute_error: 0.1770\n",
      "Epoch 2/150\n",
      "1/1 [==============================] - 0s 4ms/step - loss: 0.0403 - mean_absolute_error: 0.1733\n",
      "Epoch 3/150\n",
      "1/1 [==============================] - 0s 2ms/step - loss: 0.0389 - mean_absolute_error: 0.1698\n",
      "Epoch 4/150\n",
      "1/1 [==============================] - 0s 3ms/step - loss: 0.0376 - mean_absolute_error: 0.1662\n",
      "Epoch 5/150\n",
      "1/1 [==============================] - 0s 4ms/step - loss: 0.0363 - mean_absolute_error: 0.1626\n",
      "Epoch 6/150\n",
      "1/1 [==============================] - 0s 3ms/step - loss: 0.0350 - mean_absolute_error: 0.1590\n",
      "Epoch 7/150\n",
      "1/1 [==============================] - 0s 4ms/step - loss: 0.0338 - mean_absolute_error: 0.1555\n",
      "Epoch 8/150\n",
      "1/1 [==============================] - 0s 4ms/step - loss: 0.0326 - mean_absolute_error: 0.1519\n",
      "Epoch 9/150\n",
      "1/1 [==============================] - 0s 4ms/step - loss: 0.0315 - mean_absolute_error: 0.1484\n",
      "Epoch 10/150\n",
      "1/1 [==============================] - 0s 2ms/step - loss: 0.0303 - mean_absolute_error: 0.1449\n",
      "Epoch 11/150\n",
      "1/1 [==============================] - 0s 4ms/step - loss: 0.0292 - mean_absolute_error: 0.1413\n",
      "Epoch 12/150\n",
      "1/1 [==============================] - 0s 3ms/step - loss: 0.0282 - mean_absolute_error: 0.1378\n",
      "Epoch 13/150\n",
      "1/1 [==============================] - 0s 3ms/step - loss: 0.0272 - mean_absolute_error: 0.1344\n",
      "Epoch 14/150\n",
      "1/1 [==============================] - 0s 3ms/step - loss: 0.0262 - mean_absolute_error: 0.1309\n",
      "Epoch 15/150\n",
      "1/1 [==============================] - 0s 3ms/step - loss: 0.0252 - mean_absolute_error: 0.1275\n",
      "Epoch 16/150\n",
      "1/1 [==============================] - 0s 4ms/step - loss: 0.0243 - mean_absolute_error: 0.1241\n",
      "Epoch 17/150\n",
      "1/1 [==============================] - 0s 3ms/step - loss: 0.0235 - mean_absolute_error: 0.1207\n",
      "Epoch 18/150\n",
      "1/1 [==============================] - 0s 4ms/step - loss: 0.0226 - mean_absolute_error: 0.1175\n",
      "Epoch 19/150\n",
      "1/1 [==============================] - 0s 3ms/step - loss: 0.0218 - mean_absolute_error: 0.1142\n",
      "Epoch 20/150\n",
      "1/1 [==============================] - 0s 3ms/step - loss: 0.0210 - mean_absolute_error: 0.1110\n",
      "Epoch 21/150\n",
      "1/1 [==============================] - 0s 3ms/step - loss: 0.0203 - mean_absolute_error: 0.1078\n",
      "Epoch 22/150\n",
      "1/1 [==============================] - 0s 2ms/step - loss: 0.0196 - mean_absolute_error: 0.1047\n",
      "Epoch 23/150\n",
      "1/1 [==============================] - 0s 3ms/step - loss: 0.0190 - mean_absolute_error: 0.1021\n",
      "Epoch 24/150\n",
      "1/1 [==============================] - 0s 3ms/step - loss: 0.0184 - mean_absolute_error: 0.0995\n",
      "Epoch 25/150\n",
      "1/1 [==============================] - 0s 3ms/step - loss: 0.0178 - mean_absolute_error: 0.0970\n",
      "Epoch 26/150\n",
      "1/1 [==============================] - 0s 2ms/step - loss: 0.0172 - mean_absolute_error: 0.0945\n",
      "Epoch 27/150\n",
      "1/1 [==============================] - 0s 4ms/step - loss: 0.0167 - mean_absolute_error: 0.0925\n",
      "Epoch 28/150\n",
      "1/1 [==============================] - 0s 2ms/step - loss: 0.0162 - mean_absolute_error: 0.0911\n",
      "Epoch 29/150\n",
      "1/1 [==============================] - 0s 4ms/step - loss: 0.0157 - mean_absolute_error: 0.0898\n",
      "Epoch 30/150\n",
      "1/1 [==============================] - 0s 3ms/step - loss: 0.0152 - mean_absolute_error: 0.0886\n",
      "Epoch 31/150\n",
      "1/1 [==============================] - 0s 2ms/step - loss: 0.0148 - mean_absolute_error: 0.0873\n",
      "Epoch 32/150\n",
      "1/1 [==============================] - 0s 3ms/step - loss: 0.0144 - mean_absolute_error: 0.0861\n",
      "Epoch 33/150\n",
      "1/1 [==============================] - 0s 2ms/step - loss: 0.0140 - mean_absolute_error: 0.0849\n",
      "Epoch 34/150\n",
      "1/1 [==============================] - 0s 4ms/step - loss: 0.0136 - mean_absolute_error: 0.0837\n",
      "Epoch 35/150\n",
      "1/1 [==============================] - 0s 2ms/step - loss: 0.0133 - mean_absolute_error: 0.0826\n",
      "Epoch 36/150\n",
      "1/1 [==============================] - 0s 3ms/step - loss: 0.0130 - mean_absolute_error: 0.0815\n",
      "Epoch 37/150\n",
      "1/1 [==============================] - 0s 3ms/step - loss: 0.0127 - mean_absolute_error: 0.0804\n",
      "Epoch 38/150\n",
      "1/1 [==============================] - 0s 3ms/step - loss: 0.0124 - mean_absolute_error: 0.0793\n",
      "Epoch 39/150\n",
      "1/1 [==============================] - 0s 2ms/step - loss: 0.0121 - mean_absolute_error: 0.0782\n",
      "Epoch 40/150\n",
      "1/1 [==============================] - 0s 3ms/step - loss: 0.0118 - mean_absolute_error: 0.0772\n",
      "Epoch 41/150\n",
      "1/1 [==============================] - 0s 3ms/step - loss: 0.0116 - mean_absolute_error: 0.0761\n",
      "Epoch 42/150\n",
      "1/1 [==============================] - 0s 3ms/step - loss: 0.0113 - mean_absolute_error: 0.0751\n",
      "Epoch 43/150\n",
      "1/1 [==============================] - 0s 3ms/step - loss: 0.0111 - mean_absolute_error: 0.0743\n",
      "Epoch 44/150\n",
      "1/1 [==============================] - 0s 3ms/step - loss: 0.0109 - mean_absolute_error: 0.0736\n",
      "Epoch 45/150\n",
      "1/1 [==============================] - 0s 4ms/step - loss: 0.0107 - mean_absolute_error: 0.0728\n",
      "Epoch 46/150\n",
      "1/1 [==============================] - 0s 2ms/step - loss: 0.0105 - mean_absolute_error: 0.0722\n",
      "Epoch 47/150\n",
      "1/1 [==============================] - 0s 3ms/step - loss: 0.0104 - mean_absolute_error: 0.0715\n",
      "Epoch 48/150\n",
      "1/1 [==============================] - 0s 3ms/step - loss: 0.0102 - mean_absolute_error: 0.0709\n",
      "Epoch 49/150\n",
      "1/1 [==============================] - 0s 2ms/step - loss: 0.0100 - mean_absolute_error: 0.0705\n",
      "Epoch 50/150\n",
      "1/1 [==============================] - 0s 3ms/step - loss: 0.0099 - mean_absolute_error: 0.0703\n",
      "Epoch 51/150\n",
      "1/1 [==============================] - 0s 3ms/step - loss: 0.0098 - mean_absolute_error: 0.0700\n",
      "Epoch 52/150\n",
      "1/1 [==============================] - 0s 3ms/step - loss: 0.0096 - mean_absolute_error: 0.0698\n",
      "Epoch 53/150\n",
      "1/1 [==============================] - 0s 2ms/step - loss: 0.0095 - mean_absolute_error: 0.0695\n",
      "Epoch 54/150\n",
      "1/1 [==============================] - 0s 2ms/step - loss: 0.0094 - mean_absolute_error: 0.0692\n",
      "Epoch 55/150\n",
      "1/1 [==============================] - 0s 4ms/step - loss: 0.0093 - mean_absolute_error: 0.0690\n",
      "Epoch 56/150\n",
      "1/1 [==============================] - 0s 3ms/step - loss: 0.0092 - mean_absolute_error: 0.0687\n",
      "Epoch 57/150\n",
      "1/1 [==============================] - 0s 3ms/step - loss: 0.0091 - mean_absolute_error: 0.0684\n",
      "Epoch 58/150\n",
      "1/1 [==============================] - 0s 2ms/step - loss: 0.0090 - mean_absolute_error: 0.0681\n",
      "Epoch 59/150\n",
      "1/1 [==============================] - 0s 3ms/step - loss: 0.0089 - mean_absolute_error: 0.0677\n",
      "Epoch 60/150\n",
      "1/1 [==============================] - 0s 4ms/step - loss: 0.0088 - mean_absolute_error: 0.0674\n",
      "Epoch 61/150\n",
      "1/1 [==============================] - 0s 3ms/step - loss: 0.0087 - mean_absolute_error: 0.0671\n",
      "Epoch 62/150\n",
      "1/1 [==============================] - 0s 3ms/step - loss: 0.0086 - mean_absolute_error: 0.0667\n",
      "Epoch 63/150\n",
      "1/1 [==============================] - 0s 3ms/step - loss: 0.0085 - mean_absolute_error: 0.0665\n",
      "Epoch 64/150\n",
      "1/1 [==============================] - 0s 4ms/step - loss: 0.0084 - mean_absolute_error: 0.0663\n",
      "Epoch 65/150\n",
      "1/1 [==============================] - 0s 5ms/step - loss: 0.0084 - mean_absolute_error: 0.0661\n",
      "Epoch 66/150\n",
      "1/1 [==============================] - 0s 4ms/step - loss: 0.0083 - mean_absolute_error: 0.0659\n",
      "Epoch 67/150\n",
      "1/1 [==============================] - 0s 5ms/step - loss: 0.0082 - mean_absolute_error: 0.0657\n",
      "Epoch 68/150\n",
      "1/1 [==============================] - 0s 4ms/step - loss: 0.0082 - mean_absolute_error: 0.0655\n",
      "Epoch 69/150\n",
      "1/1 [==============================] - 0s 3ms/step - loss: 0.0081 - mean_absolute_error: 0.0652\n",
      "Epoch 70/150\n",
      "1/1 [==============================] - 0s 3ms/step - loss: 0.0080 - mean_absolute_error: 0.0650\n",
      "Epoch 71/150\n",
      "1/1 [==============================] - 0s 3ms/step - loss: 0.0080 - mean_absolute_error: 0.0647\n",
      "Epoch 72/150\n",
      "1/1 [==============================] - 0s 3ms/step - loss: 0.0079 - mean_absolute_error: 0.0645\n",
      "Epoch 73/150\n",
      "1/1 [==============================] - 0s 3ms/step - loss: 0.0078 - mean_absolute_error: 0.0642\n",
      "Epoch 74/150\n",
      "1/1 [==============================] - 0s 4ms/step - loss: 0.0078 - mean_absolute_error: 0.0639\n",
      "Epoch 75/150\n",
      "1/1 [==============================] - 0s 3ms/step - loss: 0.0077 - mean_absolute_error: 0.0636\n",
      "Epoch 76/150\n"
     ]
    },
    {
     "name": "stdout",
     "output_type": "stream",
     "text": [
      "1/1 [==============================] - 0s 3ms/step - loss: 0.0077 - mean_absolute_error: 0.0634\n",
      "Epoch 77/150\n",
      "1/1 [==============================] - 0s 4ms/step - loss: 0.0076 - mean_absolute_error: 0.0631\n",
      "Epoch 78/150\n",
      "1/1 [==============================] - 0s 2ms/step - loss: 0.0075 - mean_absolute_error: 0.0628\n",
      "Epoch 79/150\n",
      "1/1 [==============================] - 0s 3ms/step - loss: 0.0075 - mean_absolute_error: 0.0625\n",
      "Epoch 80/150\n",
      "1/1 [==============================] - 0s 3ms/step - loss: 0.0074 - mean_absolute_error: 0.0622\n",
      "Epoch 81/150\n",
      "1/1 [==============================] - 0s 3ms/step - loss: 0.0074 - mean_absolute_error: 0.0618\n",
      "Epoch 82/150\n",
      "1/1 [==============================] - 0s 2ms/step - loss: 0.0073 - mean_absolute_error: 0.0615\n",
      "Epoch 83/150\n",
      "1/1 [==============================] - 0s 2ms/step - loss: 0.0073 - mean_absolute_error: 0.0612\n",
      "Epoch 84/150\n",
      "1/1 [==============================] - 0s 4ms/step - loss: 0.0072 - mean_absolute_error: 0.0609\n",
      "Epoch 85/150\n",
      "1/1 [==============================] - 0s 3ms/step - loss: 0.0072 - mean_absolute_error: 0.0606\n",
      "Epoch 86/150\n",
      "1/1 [==============================] - 0s 2ms/step - loss: 0.0071 - mean_absolute_error: 0.0602\n",
      "Epoch 87/150\n",
      "1/1 [==============================] - 0s 3ms/step - loss: 0.0071 - mean_absolute_error: 0.0599\n",
      "Epoch 88/150\n",
      "1/1 [==============================] - 0s 3ms/step - loss: 0.0070 - mean_absolute_error: 0.0596\n",
      "Epoch 89/150\n",
      "1/1 [==============================] - 0s 4ms/step - loss: 0.0070 - mean_absolute_error: 0.0592\n",
      "Epoch 90/150\n",
      "1/1 [==============================] - 0s 3ms/step - loss: 0.0069 - mean_absolute_error: 0.0589\n",
      "Epoch 91/150\n",
      "1/1 [==============================] - 0s 3ms/step - loss: 0.0069 - mean_absolute_error: 0.0586\n",
      "Epoch 92/150\n",
      "1/1 [==============================] - 0s 3ms/step - loss: 0.0068 - mean_absolute_error: 0.0582\n",
      "Epoch 93/150\n",
      "1/1 [==============================] - 0s 3ms/step - loss: 0.0068 - mean_absolute_error: 0.0579\n",
      "Epoch 94/150\n",
      "1/1 [==============================] - 0s 3ms/step - loss: 0.0067 - mean_absolute_error: 0.0576\n",
      "Epoch 95/150\n",
      "1/1 [==============================] - 0s 4ms/step - loss: 0.0067 - mean_absolute_error: 0.0572\n",
      "Epoch 96/150\n",
      "1/1 [==============================] - 0s 3ms/step - loss: 0.0066 - mean_absolute_error: 0.0569\n",
      "Epoch 97/150\n",
      "1/1 [==============================] - 0s 4ms/step - loss: 0.0066 - mean_absolute_error: 0.0566\n",
      "Epoch 98/150\n",
      "1/1 [==============================] - 0s 2ms/step - loss: 0.0066 - mean_absolute_error: 0.0563\n",
      "Epoch 99/150\n",
      "1/1 [==============================] - 0s 3ms/step - loss: 0.0065 - mean_absolute_error: 0.0561\n",
      "Epoch 100/150\n",
      "1/1 [==============================] - 0s 4ms/step - loss: 0.0065 - mean_absolute_error: 0.0559\n",
      "Epoch 101/150\n",
      "1/1 [==============================] - 0s 2ms/step - loss: 0.0064 - mean_absolute_error: 0.0558\n",
      "Epoch 102/150\n",
      "1/1 [==============================] - 0s 3ms/step - loss: 0.0064 - mean_absolute_error: 0.0556\n",
      "Epoch 103/150\n",
      "1/1 [==============================] - 0s 4ms/step - loss: 0.0063 - mean_absolute_error: 0.0555\n",
      "Epoch 104/150\n",
      "1/1 [==============================] - 0s 3ms/step - loss: 0.0063 - mean_absolute_error: 0.0554\n",
      "Epoch 105/150\n",
      "1/1 [==============================] - 0s 2ms/step - loss: 0.0063 - mean_absolute_error: 0.0552\n",
      "Epoch 106/150\n",
      "1/1 [==============================] - 0s 4ms/step - loss: 0.0062 - mean_absolute_error: 0.0551\n",
      "Epoch 107/150\n",
      "1/1 [==============================] - 0s 3ms/step - loss: 0.0062 - mean_absolute_error: 0.0550\n",
      "Epoch 108/150\n",
      "1/1 [==============================] - 0s 3ms/step - loss: 0.0061 - mean_absolute_error: 0.0548\n",
      "Epoch 109/150\n",
      "1/1 [==============================] - 0s 3ms/step - loss: 0.0061 - mean_absolute_error: 0.0547\n",
      "Epoch 110/150\n",
      "1/1 [==============================] - 0s 3ms/step - loss: 0.0061 - mean_absolute_error: 0.0546\n",
      "Epoch 111/150\n",
      "1/1 [==============================] - 0s 5ms/step - loss: 0.0060 - mean_absolute_error: 0.0544\n",
      "Epoch 112/150\n",
      "1/1 [==============================] - 0s 2ms/step - loss: 0.0060 - mean_absolute_error: 0.0543\n",
      "Epoch 113/150\n",
      "1/1 [==============================] - 0s 3ms/step - loss: 0.0060 - mean_absolute_error: 0.0542\n",
      "Epoch 114/150\n",
      "1/1 [==============================] - 0s 3ms/step - loss: 0.0059 - mean_absolute_error: 0.0540\n",
      "Epoch 115/150\n",
      "1/1 [==============================] - 0s 3ms/step - loss: 0.0059 - mean_absolute_error: 0.0539\n",
      "Epoch 116/150\n",
      "1/1 [==============================] - 0s 3ms/step - loss: 0.0059 - mean_absolute_error: 0.0538\n",
      "Epoch 117/150\n",
      "1/1 [==============================] - 0s 4ms/step - loss: 0.0058 - mean_absolute_error: 0.0537\n",
      "Epoch 118/150\n",
      "1/1 [==============================] - 0s 3ms/step - loss: 0.0058 - mean_absolute_error: 0.0535\n",
      "Epoch 119/150\n",
      "1/1 [==============================] - 0s 3ms/step - loss: 0.0058 - mean_absolute_error: 0.0534\n",
      "Epoch 120/150\n",
      "1/1 [==============================] - 0s 3ms/step - loss: 0.0057 - mean_absolute_error: 0.0533\n",
      "Epoch 121/150\n",
      "1/1 [==============================] - 0s 3ms/step - loss: 0.0057 - mean_absolute_error: 0.0532\n",
      "Epoch 122/150\n",
      "1/1 [==============================] - 0s 3ms/step - loss: 0.0057 - mean_absolute_error: 0.0531\n",
      "Epoch 123/150\n",
      "1/1 [==============================] - 0s 4ms/step - loss: 0.0056 - mean_absolute_error: 0.0530\n",
      "Epoch 124/150\n",
      "1/1 [==============================] - 0s 3ms/step - loss: 0.0056 - mean_absolute_error: 0.0529\n",
      "Epoch 125/150\n",
      "1/1 [==============================] - 0s 3ms/step - loss: 0.0056 - mean_absolute_error: 0.0528\n",
      "Epoch 126/150\n",
      "1/1 [==============================] - 0s 4ms/step - loss: 0.0055 - mean_absolute_error: 0.0528\n",
      "Epoch 127/150\n",
      "1/1 [==============================] - 0s 2ms/step - loss: 0.0055 - mean_absolute_error: 0.0527\n",
      "Epoch 128/150\n",
      "1/1 [==============================] - 0s 3ms/step - loss: 0.0055 - mean_absolute_error: 0.0526\n",
      "Epoch 129/150\n",
      "1/1 [==============================] - 0s 3ms/step - loss: 0.0055 - mean_absolute_error: 0.0526\n",
      "Epoch 130/150\n",
      "1/1 [==============================] - 0s 2ms/step - loss: 0.0054 - mean_absolute_error: 0.0525\n",
      "Epoch 131/150\n",
      "1/1 [==============================] - 0s 4ms/step - loss: 0.0054 - mean_absolute_error: 0.0524\n",
      "Epoch 132/150\n",
      "1/1 [==============================] - 0s 2ms/step - loss: 0.0054 - mean_absolute_error: 0.0523\n",
      "Epoch 133/150\n",
      "1/1 [==============================] - 0s 4ms/step - loss: 0.0054 - mean_absolute_error: 0.0523\n",
      "Epoch 134/150\n",
      "1/1 [==============================] - 0s 3ms/step - loss: 0.0053 - mean_absolute_error: 0.0522\n",
      "Epoch 135/150\n",
      "1/1 [==============================] - 0s 2ms/step - loss: 0.0053 - mean_absolute_error: 0.0521\n",
      "Epoch 136/150\n",
      "1/1 [==============================] - 0s 3ms/step - loss: 0.0053 - mean_absolute_error: 0.0521\n",
      "Epoch 137/150\n",
      "1/1 [==============================] - 0s 3ms/step - loss: 0.0052 - mean_absolute_error: 0.0520\n",
      "Epoch 138/150\n",
      "1/1 [==============================] - 0s 4ms/step - loss: 0.0052 - mean_absolute_error: 0.0519\n",
      "Epoch 139/150\n",
      "1/1 [==============================] - 0s 2ms/step - loss: 0.0052 - mean_absolute_error: 0.0519\n",
      "Epoch 140/150\n",
      "1/1 [==============================] - 0s 5ms/step - loss: 0.0052 - mean_absolute_error: 0.0518\n",
      "Epoch 141/150\n",
      "1/1 [==============================] - 0s 4ms/step - loss: 0.0052 - mean_absolute_error: 0.0518\n",
      "Epoch 142/150\n",
      "1/1 [==============================] - 0s 4ms/step - loss: 0.0051 - mean_absolute_error: 0.0517\n",
      "Epoch 143/150\n",
      "1/1 [==============================] - 0s 4ms/step - loss: 0.0051 - mean_absolute_error: 0.0517\n",
      "Epoch 144/150\n",
      "1/1 [==============================] - 0s 3ms/step - loss: 0.0051 - mean_absolute_error: 0.0516\n",
      "Epoch 145/150\n",
      "1/1 [==============================] - 0s 4ms/step - loss: 0.0051 - mean_absolute_error: 0.0515\n",
      "Epoch 146/150\n",
      "1/1 [==============================] - 0s 2ms/step - loss: 0.0051 - mean_absolute_error: 0.0515\n",
      "Epoch 147/150\n",
      "1/1 [==============================] - 0s 3ms/step - loss: 0.0050 - mean_absolute_error: 0.0514\n",
      "Epoch 148/150\n",
      "1/1 [==============================] - 0s 3ms/step - loss: 0.0050 - mean_absolute_error: 0.0513\n",
      "Epoch 149/150\n",
      "1/1 [==============================] - 0s 3ms/step - loss: 0.0050 - mean_absolute_error: 0.0513\n",
      "Epoch 150/150\n"
     ]
    },
    {
     "name": "stdout",
     "output_type": "stream",
     "text": [
      "1/1 [==============================] - ETA: 0s - loss: 0.0050 - mean_absolute_error: 0.0512\b\b\b\b\b\b\b\b\b\b\b\b\b\b\b\b\b\b\b\b\b\b\b\b\b\b\b\b\b\b\b\b\b\b\b\b\b\b\b\b\b\b\b\b\b\b\b\b\b\b\b\b\b\b\b\b\b\b\b\b\b\b\b\b\b\b\b\b\b\b\b\b\b\b\b\b\b\b\b\b\b\b\b\b\b\b\b\b\b\b\b\r",
      "1/1 [==============================] - 0s 2ms/step - loss: 0.0050 - mean_absolute_error: 0.0512\n"
     ]
    },
    {
     "data": {
      "text/plain": [
       "<keras.callbacks.History at 0x26e88877f70>"
      ]
     },
     "execution_count": 9,
     "metadata": {},
     "output_type": "execute_result"
    }
   ],
   "source": [
    "model.fit(xtrain,ytrain,epochs=150,batch_size=30)"
   ]
  },
  {
   "cell_type": "code",
   "execution_count": 10,
   "id": "7a14977a",
   "metadata": {},
   "outputs": [
    {
     "name": "stdout",
     "output_type": "stream",
     "text": [
      "1/1 [==============================] - 0s 60ms/step\n"
     ]
    }
   ],
   "source": [
    "predictions=model.predict(xtest)"
   ]
  },
  {
   "cell_type": "code",
   "execution_count": 11,
   "id": "126ef624",
   "metadata": {},
   "outputs": [
    {
     "data": {
      "text/plain": [
       "0.13618949498415311"
      ]
     },
     "execution_count": 11,
     "metadata": {},
     "output_type": "execute_result"
    }
   ],
   "source": [
    "from sklearn.metrics import mean_absolute_error\n",
    "mean_absolute_error(ytest,predictions)"
   ]
  },
  {
   "cell_type": "code",
   "execution_count": null,
   "id": "a6ecb95c",
   "metadata": {},
   "outputs": [],
   "source": []
  }
 ],
 "metadata": {
  "kernelspec": {
   "display_name": "Python 3 (ipykernel)",
   "language": "python",
   "name": "python3"
  },
  "language_info": {
   "codemirror_mode": {
    "name": "ipython",
    "version": 3
   },
   "file_extension": ".py",
   "mimetype": "text/x-python",
   "name": "python",
   "nbconvert_exporter": "python",
   "pygments_lexer": "ipython3",
   "version": "3.10.9"
  }
 },
 "nbformat": 4,
 "nbformat_minor": 5
}
