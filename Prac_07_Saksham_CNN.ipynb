{
 "cells": [
  {
   "cell_type": "markdown",
   "id": "fb1feb58",
   "metadata": {},
   "source": [
    "<h1>CNN</h1>\n",
    "\n",
    "**Implementation of CNN to predict numbers from Hand-Written number images.**"
   ]
  },
  {
   "cell_type": "code",
   "execution_count": 3,
   "id": "85ef3294",
   "metadata": {},
   "outputs": [],
   "source": [
    "from keras.datasets import mnist\n",
    "\n",
    "# to load Handwritten -dataset of numbers"
   ]
  },
  {
   "cell_type": "code",
   "execution_count": 4,
   "id": "a2981390",
   "metadata": {},
   "outputs": [],
   "source": [
    "from tensorflow.keras.utils import to_categorical"
   ]
  },
  {
   "cell_type": "code",
   "execution_count": 5,
   "id": "f3424cd2",
   "metadata": {},
   "outputs": [],
   "source": [
    "from keras.models import Sequential"
   ]
  },
  {
   "cell_type": "code",
   "execution_count": 6,
   "id": "ec7a1132",
   "metadata": {},
   "outputs": [],
   "source": [
    "from keras.layers import Conv2D,Flatten,Dense"
   ]
  },
  {
   "cell_type": "code",
   "execution_count": 7,
   "id": "b26990ff",
   "metadata": {},
   "outputs": [],
   "source": [
    "import matplotlib.pyplot as plt"
   ]
  },
  {
   "cell_type": "code",
   "execution_count": 8,
   "id": "d8eb4ada",
   "metadata": {},
   "outputs": [],
   "source": [
    "# splitting data into trainning and testing \n",
    "\n",
    "(X_train,y_train),(X_test,y_test) = mnist.load_data()"
   ]
  },
  {
   "cell_type": "code",
   "execution_count": 9,
   "id": "e0d644a6",
   "metadata": {},
   "outputs": [
    {
     "data": {
      "text/plain": [
       "(60000, 28, 28)"
      ]
     },
     "execution_count": 9,
     "metadata": {},
     "output_type": "execute_result"
    }
   ],
   "source": [
    "X_train.shape\n",
    "\n",
    "# we have 60,000 images in trainning set with 28 * 28 pixels"
   ]
  },
  {
   "cell_type": "code",
   "execution_count": 10,
   "id": "c0748440",
   "metadata": {},
   "outputs": [
    {
     "data": {
      "text/plain": [
       "(10000, 28, 28)"
      ]
     },
     "execution_count": 10,
     "metadata": {},
     "output_type": "execute_result"
    }
   ],
   "source": [
    "X_test.shape"
   ]
  },
  {
   "cell_type": "code",
   "execution_count": 11,
   "id": "62d95175",
   "metadata": {},
   "outputs": [
    {
     "data": {
      "text/plain": [
       "<matplotlib.image.AxesImage at 0x17c8a06c3a0>"
      ]
     },
     "execution_count": 11,
     "metadata": {},
     "output_type": "execute_result"
    },
    {
     "data": {
      "image/png": "[encoded data removed]",
      "text/plain": [
       "<Figure size 640x480 with 1 Axes>"
      ]
     },
     "metadata": {},
     "output_type": "display_data"
    }
   ],
   "source": [
    "plt.imshow(X_train[7])"
   ]
  },
  {
   "cell_type": "code",
   "execution_count": 13,
   "id": "fa0a5a0b",
   "metadata": {},
   "outputs": [
    {
     "name": "stdout",
     "output_type": "stream",
     "text": [
      "3\n"
     ]
    }
   ],
   "source": [
    "print(y_train[7])\n",
    "\n",
    "# label of above img pic"
   ]
  },
  {
   "cell_type": "code",
   "execution_count": 14,
   "id": "9abab651",
   "metadata": {},
   "outputs": [
    {
     "name": "stdout",
     "output_type": "stream",
     "text": [
      "9\n"
     ]
    },
    {
     "data": {
      "image/png": "[encoded data removed]",
      "text/plain": [
       "<Figure size 640x480 with 1 Axes>"
      ]
     },
     "metadata": {},
     "output_type": "display_data"
    }
   ],
   "source": [
    "plt.imshow(X_test[7])\n",
    "\n",
    "print(y_test[7])"
   ]
  },
  {
   "cell_type": "code",
   "execution_count": 15,
   "id": "a10580ea",
   "metadata": {},
   "outputs": [],
   "source": [
    "# now reshaping data , to consider single pixel as a single data-point\n",
    "\n",
    "X_train = X_train.reshape(60000, 28, 28, 1)"
   ]
  },
  {
   "cell_type": "code",
   "execution_count": 16,
   "id": "27d9e142",
   "metadata": {},
   "outputs": [],
   "source": [
    "X_test = X_test.reshape(10000, 28,28, 1)"
   ]
  },
  {
   "cell_type": "code",
   "execution_count": 18,
   "id": "e2cc9213",
   "metadata": {},
   "outputs": [
    {
     "data": {
      "text/plain": [
       "5"
      ]
     },
     "execution_count": 18,
     "metadata": {},
     "output_type": "execute_result"
    }
   ],
   "source": [
    "y_train[0]\n",
    "\n",
    "# our labels are in Scalar form."
   ]
  },
  {
   "cell_type": "code",
   "execution_count": 19,
   "id": "36c8480b",
   "metadata": {},
   "outputs": [],
   "source": [
    "# convert labels into categorical form , so wil get labels in Vector form.(Multiclass Classification)\n",
    "\n",
    "y_train = to_categorical(y_train)"
   ]
  },
  {
   "cell_type": "code",
   "execution_count": 20,
   "id": "76309130",
   "metadata": {},
   "outputs": [
    {
     "data": {
      "text/plain": [
       "array([0., 0., 0., 0., 0., 1., 0., 0., 0., 0.], dtype=float32)"
      ]
     },
     "execution_count": 20,
     "metadata": {},
     "output_type": "execute_result"
    }
   ],
   "source": [
    "y_train[0]"
   ]
  },
  {
   "cell_type": "code",
   "execution_count": 21,
   "id": "5e17cc8a",
   "metadata": {},
   "outputs": [],
   "source": [
    "y_test = to_categorical(y_test)"
   ]
  },
  {
   "cell_type": "code",
   "execution_count": 22,
   "id": "732d8937",
   "metadata": {},
   "outputs": [
    {
     "data": {
      "text/plain": [
       "array([0., 0., 0., 0., 0., 0., 0., 1., 0., 0.], dtype=float32)"
      ]
     },
     "execution_count": 22,
     "metadata": {},
     "output_type": "execute_result"
    }
   ],
   "source": [
    "y_test[0]"
   ]
  },
  {
   "cell_type": "markdown",
   "id": "50f9abff",
   "metadata": {},
   "source": [
    "**Converted Labels into vector format.**"
   ]
  },
  {
   "cell_type": "code",
   "execution_count": 23,
   "id": "cb42d499",
   "metadata": {},
   "outputs": [],
   "source": [
    "# Now lets build our neural network\n",
    "\n",
    "cnnmodel = Sequential()\n",
    "\n",
    "# adding first layer to feture selection of image\n",
    "\n",
    "cnnmodel.add(Conv2D(64, kernel_size=3, activation='relu', input_shape = (28, 28, 1)))\n",
    "\n",
    "cnnmodel.add(Conv2D(32, kernel_size=3, activation='relu'))\n",
    "\n",
    "# to convert above metrix image features into vector form\n",
    "cnnmodel.add(Flatten())\n",
    "\n",
    "\n",
    "# final layer(output layer) we have 10-classes\n",
    "\n",
    "cnnmodel.add(Dense(10, activation='softmax'))"
   ]
  },
  {
   "cell_type": "code",
   "execution_count": 24,
   "id": "9d733f79",
   "metadata": {},
   "outputs": [],
   "source": [
    "cnnmodel.compile(loss='categorical_crossentropy', optimizer = 'adam', metrics='accuracy')"
   ]
  },
  {
   "cell_type": "code",
   "execution_count": 25,
   "id": "472ce708",
   "metadata": {},
   "outputs": [
    {
     "name": "stdout",
     "output_type": "stream",
     "text": [
      "Epoch 1/3\n",
      "1875/1875 [==============================] - 49s 26ms/step - loss: 0.2407 - accuracy: 0.9524 - val_loss: 0.0742 - val_accuracy: 0.9760\n",
      "Epoch 2/3\n",
      "1875/1875 [==============================] - 50s 27ms/step - loss: 0.0675 - accuracy: 0.9791 - val_loss: 0.0784 - val_accuracy: 0.9776\n",
      "Epoch 3/3\n",
      "1875/1875 [==============================] - 51s 27ms/step - loss: 0.0466 - accuracy: 0.9847 - val_loss: 0.0829 - val_accuracy: 0.9793\n"
     ]
    },
    {
     "data": {
      "text/plain": [
       "<keras.callbacks.History at 0x17c91d6cbb0>"
      ]
     },
     "execution_count": 25,
     "metadata": {},
     "output_type": "execute_result"
    }
   ],
   "source": [
    "cnnmodel.fit(X_train, y_train, validation_data=(X_test, y_test), epochs=3)"
   ]
  },
  {
   "cell_type": "code",
   "execution_count": 26,
   "id": "b920ff49",
   "metadata": {},
   "outputs": [
    {
     "name": "stdout",
     "output_type": "stream",
     "text": [
      "1/1 [==============================] - 0s 129ms/step\n",
      "[[2.9504066e-10 1.6774651e-14 4.0087491e-07 4.8139162e-04 5.1641579e-14\n",
      "  2.9976830e-12 1.0104365e-15 9.9951828e-01 2.1758306e-09 6.7793951e-11]\n",
      " [3.8350524e-11 3.4121570e-11 1.0000000e+00 3.6001296e-11 1.8625418e-12\n",
      "  1.2600941e-14 4.2027248e-09 6.4825066e-13 2.8194695e-11 1.0769996e-18]\n",
      " [2.1416695e-06 9.9970019e-01 2.6215343e-06 2.5716715e-09 6.8861162e-05\n",
      "  4.9308422e-08 2.3192154e-06 1.2432079e-07 2.2380873e-04 1.0518272e-08]]\n"
     ]
    }
   ],
   "source": [
    "print(cnnmodel.predict(X_test[:3]))"
   ]
  },
  {
   "cell_type": "code",
   "execution_count": 27,
   "id": "53f2261f",
   "metadata": {},
   "outputs": [
    {
     "name": "stdout",
     "output_type": "stream",
     "text": [
      "[[0. 0. 0. 0. 0. 0. 0. 1. 0. 0.]\n",
      " [0. 0. 1. 0. 0. 0. 0. 0. 0. 0.]\n",
      " [0. 1. 0. 0. 0. 0. 0. 0. 0. 0.]]\n"
     ]
    }
   ],
   "source": [
    "print(y_test[:3])"
   ]
  },
  {
   "cell_type": "code",
   "execution_count": null,
   "id": "01f0c150",
   "metadata": {},
   "outputs": [],
   "source": []
  }
 ],
 "metadata": {
  "kernelspec": {
   "display_name": "Python 3 (ipykernel)",
   "language": "python",
   "name": "python3"
  },
  "language_info": {
   "codemirror_mode": {
    "name": "ipython",
    "version": 3
   },
   "file_extension": ".py",
   "mimetype": "text/x-python",
   "name": "python",
   "nbconvert_exporter": "python",
   "pygments_lexer": "ipython3",
   "version": "3.10.9"
  }
 },
 "nbformat": 4,
 "nbformat_minor": 5
}
