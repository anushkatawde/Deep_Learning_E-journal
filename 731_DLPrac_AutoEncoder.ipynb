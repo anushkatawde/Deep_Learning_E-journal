{
 "cells": [
  {
   "cell_type": "markdown",
   "id": "be2b51be",
   "metadata": {},
   "source": [
    "# Aim : Applying AutoEncoder on MNIST Dataset"
   ]
  },
  {
   "cell_type": "code",
   "execution_count": 1,
   "id": "804deed6",
   "metadata": {},
   "outputs": [],
   "source": [
    "from keras import layers\n",
    "from keras.datasets import mnist\n",
    "import keras \n",
    "import numpy as np\n",
    "import matplotlib.pyplot as plt"
   ]
  },
  {
   "cell_type": "code",
   "execution_count": 2,
   "id": "b7c8c4cd",
   "metadata": {},
   "outputs": [],
   "source": [
    "# Latent Representation of size 32 \n",
    "\n",
    "encoding_dim = 32"
   ]
  },
  {
   "cell_type": "code",
   "execution_count": 3,
   "id": "0d24a7e6",
   "metadata": {},
   "outputs": [],
   "source": [
    "input_img = keras.Input(shape=(784,))"
   ]
  },
  {
   "cell_type": "code",
   "execution_count": 4,
   "id": "91948aa7",
   "metadata": {},
   "outputs": [],
   "source": [
    "# Encoder \n",
    "\n",
    "encoded = layers.Dense(encoding_dim, activation = \"relu\")(input_img)"
   ]
  },
  {
   "cell_type": "code",
   "execution_count": 5,
   "id": "38615de7",
   "metadata": {},
   "outputs": [],
   "source": [
    "# Decoder \n",
    "\n",
    "decoded = layers.Dense(784, activation = \"sigmoid\")(encoded)"
   ]
  },
  {
   "cell_type": "code",
   "execution_count": 6,
   "id": "19969238",
   "metadata": {},
   "outputs": [],
   "source": [
    "autoencoder = keras.Model(input_img, decoded)"
   ]
  },
  {
   "cell_type": "code",
   "execution_count": 7,
   "id": "081119a5",
   "metadata": {},
   "outputs": [],
   "source": [
    "encoder = keras.Model(input_img, encoded)\n",
    "encoded_input = keras.Input(shape=(encoding_dim,))"
   ]
  },
  {
   "cell_type": "code",
   "execution_count": 8,
   "id": "53dce5f6",
   "metadata": {},
   "outputs": [],
   "source": [
    "decoder_layer = autoencoder.layers[-1]\n",
    "decoder = keras.Model(encoded_input, decoder_layer(encoded_input))"
   ]
  },
  {
   "cell_type": "code",
   "execution_count": 9,
   "id": "aaea1530",
   "metadata": {},
   "outputs": [],
   "source": [
    "autoencoder.compile(optimizer='adam',loss='binary_crossentropy')"
   ]
  },
  {
   "cell_type": "code",
   "execution_count": 10,
   "id": "9e724376",
   "metadata": {},
   "outputs": [],
   "source": [
    "(xtrain,_),(xtest,_)=mnist.load_data()"
   ]
  },
  {
   "cell_type": "code",
   "execution_count": 11,
   "id": "de42faab",
   "metadata": {},
   "outputs": [],
   "source": [
    "xtrain = xtrain.astype('float32')/255\n",
    "xtest = xtest.astype('float32')/255"
   ]
  },
  {
   "cell_type": "code",
   "execution_count": 12,
   "id": "44de54ca",
   "metadata": {},
   "outputs": [
    {
     "data": {
      "text/plain": [
       "(60000, 28, 28)"
      ]
     },
     "execution_count": 12,
     "metadata": {},
     "output_type": "execute_result"
    }
   ],
   "source": [
    "xtrain.shape"
   ]
  },
  {
   "cell_type": "code",
   "execution_count": 13,
   "id": "b267da5c",
   "metadata": {},
   "outputs": [
    {
     "data": {
      "text/plain": [
       "(10000, 28, 28)"
      ]
     },
     "execution_count": 13,
     "metadata": {},
     "output_type": "execute_result"
    }
   ],
   "source": [
    "xtest.shape"
   ]
  },
  {
   "cell_type": "code",
   "execution_count": 14,
   "id": "39a1ce8c",
   "metadata": {},
   "outputs": [
    {
     "data": {
      "text/plain": [
       "(60000, 784)"
      ]
     },
     "execution_count": 14,
     "metadata": {},
     "output_type": "execute_result"
    }
   ],
   "source": [
    "xtrain = xtrain.reshape((len(xtrain),np.prod(xtrain.shape[1:])))\n",
    "xtrain.shape"
   ]
  },
  {
   "cell_type": "code",
   "execution_count": 15,
   "id": "d40bd5d7",
   "metadata": {},
   "outputs": [
    {
     "data": {
      "text/plain": [
       "(10000, 784)"
      ]
     },
     "execution_count": 15,
     "metadata": {},
     "output_type": "execute_result"
    }
   ],
   "source": [
    "xtest = xtest.reshape((len(xtest),np.prod(xtest.shape[1:])))\n",
    "xtest.shape"
   ]
  },
  {
   "cell_type": "code",
   "execution_count": 16,
   "id": "f0ca75e4",
   "metadata": {},
   "outputs": [
    {
     "name": "stdout",
     "output_type": "stream",
     "text": [
      "Epoch 1/50\n",
      "235/235 [==============================] - 1s 4ms/step - loss: 0.2757 - val_loss: 0.1847\n",
      "Epoch 2/50\n",
      "235/235 [==============================] - 1s 3ms/step - loss: 0.1675 - val_loss: 0.1514\n",
      "Epoch 3/50\n",
      "235/235 [==============================] - 1s 3ms/step - loss: 0.1431 - val_loss: 0.1332\n",
      "Epoch 4/50\n",
      "235/235 [==============================] - 1s 3ms/step - loss: 0.1284 - val_loss: 0.1214\n",
      "Epoch 5/50\n",
      "235/235 [==============================] - 1s 3ms/step - loss: 0.1183 - val_loss: 0.1126\n",
      "Epoch 6/50\n",
      "235/235 [==============================] - 1s 3ms/step - loss: 0.1110 - val_loss: 0.1067\n",
      "Epoch 7/50\n",
      "235/235 [==============================] - 1s 3ms/step - loss: 0.1059 - val_loss: 0.1026\n",
      "Epoch 8/50\n",
      "235/235 [==============================] - 1s 3ms/step - loss: 0.1024 - val_loss: 0.0996\n",
      "Epoch 9/50\n",
      "235/235 [==============================] - 1s 3ms/step - loss: 0.0997 - val_loss: 0.0973\n",
      "Epoch 10/50\n",
      "235/235 [==============================] - 1s 3ms/step - loss: 0.0978 - val_loss: 0.0957\n",
      "Epoch 11/50\n",
      "235/235 [==============================] - 1s 3ms/step - loss: 0.0964 - val_loss: 0.0948\n",
      "Epoch 12/50\n",
      "235/235 [==============================] - 1s 3ms/step - loss: 0.0956 - val_loss: 0.0940\n",
      "Epoch 13/50\n",
      "235/235 [==============================] - 1s 3ms/step - loss: 0.0951 - val_loss: 0.0935\n",
      "Epoch 14/50\n",
      "235/235 [==============================] - 1s 3ms/step - loss: 0.0947 - val_loss: 0.0932\n",
      "Epoch 15/50\n",
      "235/235 [==============================] - 1s 3ms/step - loss: 0.0944 - val_loss: 0.0930\n",
      "Epoch 16/50\n",
      "235/235 [==============================] - 1s 3ms/step - loss: 0.0942 - val_loss: 0.0928\n",
      "Epoch 17/50\n",
      "235/235 [==============================] - 1s 3ms/step - loss: 0.0940 - val_loss: 0.0926\n",
      "Epoch 18/50\n",
      "235/235 [==============================] - 1s 3ms/step - loss: 0.0939 - val_loss: 0.0925\n",
      "Epoch 19/50\n",
      "235/235 [==============================] - 1s 3ms/step - loss: 0.0937 - val_loss: 0.0924\n",
      "Epoch 20/50\n",
      "235/235 [==============================] - 1s 3ms/step - loss: 0.0936 - val_loss: 0.0923\n",
      "Epoch 21/50\n",
      "235/235 [==============================] - 1s 3ms/step - loss: 0.0935 - val_loss: 0.0922\n",
      "Epoch 22/50\n",
      "235/235 [==============================] - 1s 3ms/step - loss: 0.0935 - val_loss: 0.0921\n",
      "Epoch 23/50\n",
      "235/235 [==============================] - 1s 3ms/step - loss: 0.0934 - val_loss: 0.0922\n",
      "Epoch 24/50\n",
      "235/235 [==============================] - 1s 3ms/step - loss: 0.0933 - val_loss: 0.0921\n",
      "Epoch 25/50\n",
      "235/235 [==============================] - 1s 3ms/step - loss: 0.0933 - val_loss: 0.0920\n",
      "Epoch 26/50\n",
      "235/235 [==============================] - 1s 3ms/step - loss: 0.0932 - val_loss: 0.0920\n",
      "Epoch 27/50\n",
      "235/235 [==============================] - 1s 3ms/step - loss: 0.0932 - val_loss: 0.0920\n",
      "Epoch 28/50\n",
      "235/235 [==============================] - 1s 3ms/step - loss: 0.0931 - val_loss: 0.0920\n",
      "Epoch 29/50\n",
      "235/235 [==============================] - 1s 3ms/step - loss: 0.0931 - val_loss: 0.0918\n",
      "Epoch 30/50\n",
      "235/235 [==============================] - 1s 3ms/step - loss: 0.0930 - val_loss: 0.0919\n",
      "Epoch 31/50\n",
      "235/235 [==============================] - 1s 3ms/step - loss: 0.0930 - val_loss: 0.0918\n",
      "Epoch 32/50\n",
      "235/235 [==============================] - 1s 3ms/step - loss: 0.0930 - val_loss: 0.0918\n",
      "Epoch 33/50\n",
      "235/235 [==============================] - 1s 3ms/step - loss: 0.0929 - val_loss: 0.0917\n",
      "Epoch 34/50\n",
      "235/235 [==============================] - 1s 3ms/step - loss: 0.0929 - val_loss: 0.0917\n",
      "Epoch 35/50\n",
      "235/235 [==============================] - 1s 3ms/step - loss: 0.0929 - val_loss: 0.0917\n",
      "Epoch 36/50\n",
      "235/235 [==============================] - 1s 3ms/step - loss: 0.0929 - val_loss: 0.0917\n",
      "Epoch 37/50\n",
      "235/235 [==============================] - 1s 3ms/step - loss: 0.0928 - val_loss: 0.0916\n",
      "Epoch 38/50\n",
      "235/235 [==============================] - 1s 3ms/step - loss: 0.0928 - val_loss: 0.0916\n",
      "Epoch 39/50\n",
      "235/235 [==============================] - 1s 3ms/step - loss: 0.0928 - val_loss: 0.0916\n",
      "Epoch 40/50\n",
      "235/235 [==============================] - 1s 3ms/step - loss: 0.0928 - val_loss: 0.0916\n",
      "Epoch 41/50\n",
      "235/235 [==============================] - 1s 3ms/step - loss: 0.0928 - val_loss: 0.0915\n",
      "Epoch 42/50\n",
      "235/235 [==============================] - 1s 3ms/step - loss: 0.0927 - val_loss: 0.0916\n",
      "Epoch 43/50\n",
      "235/235 [==============================] - 1s 3ms/step - loss: 0.0927 - val_loss: 0.0916\n",
      "Epoch 44/50\n",
      "235/235 [==============================] - 1s 3ms/step - loss: 0.0927 - val_loss: 0.0916\n",
      "Epoch 45/50\n",
      "235/235 [==============================] - 1s 3ms/step - loss: 0.0927 - val_loss: 0.0915\n",
      "Epoch 46/50\n",
      "235/235 [==============================] - 1s 3ms/step - loss: 0.0927 - val_loss: 0.0915\n",
      "Epoch 47/50\n",
      "235/235 [==============================] - 1s 3ms/step - loss: 0.0927 - val_loss: 0.0915\n",
      "Epoch 48/50\n",
      "235/235 [==============================] - 1s 3ms/step - loss: 0.0926 - val_loss: 0.0915\n",
      "Epoch 49/50\n",
      "235/235 [==============================] - 1s 3ms/step - loss: 0.0927 - val_loss: 0.0915\n",
      "Epoch 50/50\n",
      "235/235 [==============================] - 1s 3ms/step - loss: 0.0926 - val_loss: 0.0915\n"
     ]
    },
    {
     "data": {
      "text/plain": [
       "<keras.callbacks.History at 0x296970eeef0>"
      ]
     },
     "execution_count": 16,
     "metadata": {},
     "output_type": "execute_result"
    }
   ],
   "source": [
    "autoencoder.fit(xtrain,xtrain,epochs=50,batch_size=256,validation_data=(xtest,xtest))"
   ]
  },
  {
   "cell_type": "code",
   "execution_count": 17,
   "id": "a9d88f67",
   "metadata": {},
   "outputs": [
    {
     "name": "stdout",
     "output_type": "stream",
     "text": [
      "313/313 [==============================] - 0s 511us/step\n"
     ]
    }
   ],
   "source": [
    "encoded_imgs = encoder.predict(xtest)"
   ]
  },
  {
   "cell_type": "code",
   "execution_count": 18,
   "id": "06ee8e10",
   "metadata": {},
   "outputs": [
    {
     "name": "stdout",
     "output_type": "stream",
     "text": [
      "313/313 [==============================] - 0s 547us/step\n"
     ]
    }
   ],
   "source": [
    "decoded_imgs = decoder.predict(encoded_imgs)"
   ]
  },
  {
   "cell_type": "code",
   "execution_count": 19,
   "id": "1e08ce2d",
   "metadata": {},
   "outputs": [
    {
     "data": {
      "image/png": "[encoded data removed]",
      "text/plain": [
       "<Figure size 4000x400 with 30 Axes>"
      ]
     },
     "metadata": {},
     "output_type": "display_data"
    }
   ],
   "source": [
    "n=10\n",
    "plt.figure(figsize=(40,4))\n",
    "for i in range(10):\n",
    "    ax=plt.subplot(3,20,i+1)\n",
    "    plt.imshow(xtest[i].reshape(28,28))\n",
    "    plt.gray()\n",
    "    ax.get_xaxis().set_visible(False)\n",
    "    ax.get_yaxis().set_visible(False)\n",
    "\n",
    "    ax=plt.subplot(3,20,i+1+20)\n",
    "    plt.imshow(encoded_imgs[i].reshape(8,4))\n",
    "    plt.gray()\n",
    "    ax.get_xaxis().set_visible(False)\n",
    "    ax.get_yaxis().set_visible(False)\n",
    "\n",
    "    ax=plt.subplot(3,20,2*20+i+1)\n",
    "    plt.imshow(decoded_imgs[i].reshape(28,28))\n",
    "    plt.gray()\n",
    "    ax.get_xaxis().set_visible(False)\n",
    "    ax.get_yaxis().set_visible(False)"
   ]
  }
 ],
 "metadata": {
  "kernelspec": {
   "display_name": "Python 3 (ipykernel)",
   "language": "python",
   "name": "python3"
  },
  "language_info": {
   "codemirror_mode": {
    "name": "ipython",
    "version": 3
   },
   "file_extension": ".py",
   "mimetype": "text/x-python",
   "name": "python",
   "nbconvert_exporter": "python",
   "pygments_lexer": "ipython3",
   "version": "3.10.9"
  }
 },
 "nbformat": 4,
 "nbformat_minor": 5
}
