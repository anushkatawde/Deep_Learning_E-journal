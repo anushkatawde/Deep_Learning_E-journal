{
 "cells": [
  {
   "cell_type": "code",
   "execution_count": 8,
   "id": "9953dac0",
   "metadata": {},
   "outputs": [],
   "source": [
    "from keras.datasets import cifar10\n",
    "\n",
    "# importing images with different variations"
   ]
  },
  {
   "cell_type": "code",
   "execution_count": 2,
   "id": "172b7794",
   "metadata": {},
   "outputs": [],
   "source": [
    "from keras.layers import Conv2D,Activation,Dropout,MaxPooling2D,Flatten,Dense\n",
    "\n",
    "# Dropout = To drop unused neurons\n",
    "# Activation = to define Activation func\n"
   ]
  },
  {
   "cell_type": "code",
   "execution_count": 3,
   "id": "1738e0d7",
   "metadata": {},
   "outputs": [],
   "source": [
    "import numpy as np"
   ]
  },
  {
   "cell_type": "code",
   "execution_count": 4,
   "id": "149e2ed7",
   "metadata": {},
   "outputs": [],
   "source": [
    "import matplotlib.pyplot as plt"
   ]
  },
  {
   "cell_type": "code",
   "execution_count": 9,
   "id": "ccaa7f4d",
   "metadata": {},
   "outputs": [
    {
     "name": "stdout",
     "output_type": "stream",
     "text": [
      "Downloading data from https://www.cs.toronto.edu/~kriz/cifar-10-python.tar.gz\n",
      "170498071/170498071 [==============================] - 161s 1us/step\n"
     ]
    }
   ],
   "source": [
    "(X_train, y_train),(X_test, y_test) = cifar10.load_data()"
   ]
  },
  {
   "cell_type": "code",
   "execution_count": 10,
   "id": "6051c321",
   "metadata": {},
   "outputs": [
    {
     "data": {
      "text/plain": [
       "(50000, 32, 32, 3)"
      ]
     },
     "execution_count": 10,
     "metadata": {},
     "output_type": "execute_result"
    }
   ],
   "source": [
    "X_train.shape"
   ]
  },
  {
   "cell_type": "code",
   "execution_count": 11,
   "id": "8d3120ea",
   "metadata": {},
   "outputs": [
    {
     "data": {
      "text/plain": [
       "(10000, 32, 32, 3)"
      ]
     },
     "execution_count": 11,
     "metadata": {},
     "output_type": "execute_result"
    }
   ],
   "source": [
    "X_test.shape"
   ]
  },
  {
   "cell_type": "markdown",
   "id": "4be95821",
   "metadata": {},
   "source": [
    "**Reducing Pixel size to decimal**"
   ]
  },
  {
   "cell_type": "code",
   "execution_count": 15,
   "id": "eeb59db2",
   "metadata": {},
   "outputs": [],
   "source": [
    "X_train = X_train.astype('float32')\n",
    "\n",
    "X_test = X_test.astype('float32')\n",
    "\n",
    "# converting pixels into float"
   ]
  },
  {
   "cell_type": "code",
   "execution_count": 16,
   "id": "e567c70f",
   "metadata": {},
   "outputs": [],
   "source": [
    "X_train /= 255\n",
    "\n",
    "# dividing pixel by total pixel size"
   ]
  },
  {
   "cell_type": "code",
   "execution_count": 17,
   "id": "d4141079",
   "metadata": {},
   "outputs": [],
   "source": [
    "X_test /= 255"
   ]
  },
  {
   "cell_type": "markdown",
   "id": "91414cdc",
   "metadata": {},
   "source": [
    "**Building the Model**"
   ]
  },
  {
   "cell_type": "code",
   "execution_count": 18,
   "id": "305ddc5b",
   "metadata": {},
   "outputs": [],
   "source": [
    "from keras.models import Sequential"
   ]
  },
  {
   "cell_type": "code",
   "execution_count": 19,
   "id": "56c317e3",
   "metadata": {},
   "outputs": [],
   "source": [
    "model = Sequential()"
   ]
  },
  {
   "cell_type": "markdown",
   "id": "d5f73f4f",
   "metadata": {},
   "source": [
    "**Layer 1**"
   ]
  },
  {
   "cell_type": "code",
   "execution_count": 20,
   "id": "44746d23",
   "metadata": {},
   "outputs": [],
   "source": [
    "model.add(Conv2D(32, (3,3), padding='same', input_shape = X_train.shape[1:]))"
   ]
  },
  {
   "cell_type": "code",
   "execution_count": 21,
   "id": "e44cdd46",
   "metadata": {},
   "outputs": [],
   "source": [
    "# Adding activation function seperately.\n",
    "\n",
    "model.add(Activation('relu'))"
   ]
  },
  {
   "cell_type": "markdown",
   "id": "23e0f5f8",
   "metadata": {},
   "source": [
    "**Layer 2**"
   ]
  },
  {
   "cell_type": "code",
   "execution_count": 22,
   "id": "40b5268f",
   "metadata": {},
   "outputs": [],
   "source": [
    "model.add(Conv2D(32, (3,3)))"
   ]
  },
  {
   "cell_type": "code",
   "execution_count": 23,
   "id": "2099c36e",
   "metadata": {},
   "outputs": [],
   "source": [
    "model.add(Activation('relu'))"
   ]
  },
  {
   "cell_type": "code",
   "execution_count": 24,
   "id": "974b93de",
   "metadata": {},
   "outputs": [],
   "source": [
    "model.add(MaxPooling2D(pool_size=(2,2)))\n",
    "\n",
    "# adding MaxPooling to remove less important features."
   ]
  },
  {
   "cell_type": "code",
   "execution_count": 25,
   "id": "771582fa",
   "metadata": {},
   "outputs": [],
   "source": [
    "model.add(Dropout(0.25))\n",
    "\n",
    "# droping 25% less important Neurons"
   ]
  },
  {
   "cell_type": "code",
   "execution_count": 26,
   "id": "ea0d059e",
   "metadata": {},
   "outputs": [],
   "source": [
    "model.add(Flatten())"
   ]
  },
  {
   "cell_type": "markdown",
   "id": "420789db",
   "metadata": {},
   "source": [
    "**Hidden Layer**"
   ]
  },
  {
   "cell_type": "code",
   "execution_count": 27,
   "id": "c61bd162",
   "metadata": {},
   "outputs": [],
   "source": [
    "model.add(Dense(512))"
   ]
  },
  {
   "cell_type": "code",
   "execution_count": 28,
   "id": "f89aa0c6",
   "metadata": {},
   "outputs": [],
   "source": [
    "model.add(Activation('relu'))"
   ]
  },
  {
   "cell_type": "code",
   "execution_count": 29,
   "id": "6079a7c8",
   "metadata": {},
   "outputs": [],
   "source": [
    "model.add(Dropout(0.5))"
   ]
  },
  {
   "cell_type": "markdown",
   "id": "45fdd024",
   "metadata": {},
   "source": [
    "**Output Layer**"
   ]
  },
  {
   "cell_type": "code",
   "execution_count": 30,
   "id": "a0e87605",
   "metadata": {},
   "outputs": [],
   "source": [
    "model.add(Dense(10))"
   ]
  },
  {
   "cell_type": "code",
   "execution_count": 31,
   "id": "879e01fd",
   "metadata": {},
   "outputs": [],
   "source": [
    "model.add(Activation('softmax'))"
   ]
  },
  {
   "cell_type": "markdown",
   "id": "72a95ac7",
   "metadata": {},
   "source": [
    "**Compile the model**"
   ]
  },
  {
   "cell_type": "code",
   "execution_count": 32,
   "id": "9f84f173",
   "metadata": {},
   "outputs": [],
   "source": [
    "model.compile(loss='categorical_crossentropy', optimizer='adam', metrics='accuracy')"
   ]
  },
  {
   "cell_type": "code",
   "execution_count": 33,
   "id": "36145c3a",
   "metadata": {},
   "outputs": [],
   "source": [
    "from keras.utils import to_categorical"
   ]
  },
  {
   "cell_type": "code",
   "execution_count": 34,
   "id": "2a3d5feb",
   "metadata": {},
   "outputs": [],
   "source": [
    "y_train = to_categorical(y_train, 10)"
   ]
  },
  {
   "cell_type": "code",
   "execution_count": 35,
   "id": "2f2fd0e2",
   "metadata": {},
   "outputs": [
    {
     "data": {
      "text/plain": [
       "array([0., 0., 0., 0., 0., 0., 1., 0., 0., 0.], dtype=float32)"
      ]
     },
     "execution_count": 35,
     "metadata": {},
     "output_type": "execute_result"
    }
   ],
   "source": [
    "y_train[0]"
   ]
  },
  {
   "cell_type": "code",
   "execution_count": 36,
   "id": "0ee8753c",
   "metadata": {},
   "outputs": [],
   "source": [
    "y_test = to_categorical(y_test, 10)"
   ]
  },
  {
   "cell_type": "code",
   "execution_count": 37,
   "id": "6b391f11",
   "metadata": {},
   "outputs": [
    {
     "data": {
      "text/plain": [
       "array([0., 0., 0., 1., 0., 0., 0., 0., 0., 0.], dtype=float32)"
      ]
     },
     "execution_count": 37,
     "metadata": {},
     "output_type": "execute_result"
    }
   ],
   "source": [
    "y_test[0]"
   ]
  },
  {
   "cell_type": "code",
   "execution_count": 40,
   "id": "b0997261",
   "metadata": {},
   "outputs": [
    {
     "name": "stdout",
     "output_type": "stream",
     "text": [
      "Epoch 1/5\n",
      "1563/1563 [==============================] - 73s 47ms/step - loss: 1.7584 - accuracy: 0.3750 - val_loss: 326.9555 - val_accuracy: 0.1319\n",
      "Epoch 2/5\n",
      "1563/1563 [==============================] - 73s 47ms/step - loss: 1.7265 - accuracy: 0.3896 - val_loss: 307.8936 - val_accuracy: 0.1301\n",
      "Epoch 3/5\n",
      "1563/1563 [==============================] - 74s 47ms/step - loss: 1.6903 - accuracy: 0.4008 - val_loss: 206.2339 - val_accuracy: 0.1429\n",
      "Epoch 4/5\n",
      "1563/1563 [==============================] - 75s 48ms/step - loss: 1.6439 - accuracy: 0.4173 - val_loss: 149.7285 - val_accuracy: 0.1839\n",
      "Epoch 5/5\n",
      "1563/1563 [==============================] - 74s 47ms/step - loss: 1.6024 - accuracy: 0.4312 - val_loss: 218.4624 - val_accuracy: 0.1832\n"
     ]
    },
    {
     "data": {
      "text/plain": [
       "<keras.callbacks.History at 0x155a913bc10>"
      ]
     },
     "execution_count": 40,
     "metadata": {},
     "output_type": "execute_result"
    }
   ],
   "source": [
    "model.fit(X_train, y_train, validation_data=(X_test, y_test), batch_size = 32, epochs =5)"
   ]
  },
  {
   "cell_type": "code",
   "execution_count": 41,
   "id": "7f623b03",
   "metadata": {},
   "outputs": [
    {
     "name": "stdout",
     "output_type": "stream",
     "text": [
      "313/313 [==============================] - 5s 17ms/step\n",
      "[0. 0. 0. 1. 0. 0. 0. 0. 0. 0.]\n",
      "[1. 0. 0. 0. 0. 0. 0. 0. 0. 0.]\n",
      "[0. 0. 0. 0. 0. 0. 0. 0. 1. 0.]\n",
      "[0. 0. 0. 0. 0. 0. 0. 0. 1. 0.]\n",
      "[0. 0. 0. 0. 0. 0. 0. 0. 1. 0.]\n",
      "[0. 0. 0. 0. 0. 0. 0. 0. 1. 0.]\n",
      "[1. 0. 0. 0. 0. 0. 0. 0. 0. 0.]\n",
      "[3.3234006e-23 0.0000000e+00 0.0000000e+00 0.0000000e+00 0.0000000e+00\n",
      " 0.0000000e+00 0.0000000e+00 0.0000000e+00 1.0000000e+00 0.0000000e+00]\n",
      "[0. 0. 0. 0. 0. 0. 1. 0. 0. 0.]\n",
      "[1.0000000e+00 0.0000000e+00 0.0000000e+00 3.0580526e-31 0.0000000e+00\n",
      " 0.0000000e+00 0.0000000e+00 0.0000000e+00 0.0000000e+00 0.0000000e+00]\n"
     ]
    }
   ],
   "source": [
    "predictions = model.predict(X_test)\n",
    "\n",
    "for i in range(5):\n",
    "    print(y_test[i])\n",
    "    print(predictions[i])\n",
    "    "
   ]
  },
  {
   "cell_type": "code",
   "execution_count": null,
   "id": "62ea62bf",
   "metadata": {},
   "outputs": [],
   "source": []
  }
 ],
 "metadata": {
  "kernelspec": {
   "display_name": "Python 3 (ipykernel)",
   "language": "python",
   "name": "python3"
  },
  "language_info": {
   "codemirror_mode": {
    "name": "ipython",
    "version": 3
   },
   "file_extension": ".py",
   "mimetype": "text/x-python",
   "name": "python",
   "nbconvert_exporter": "python",
   "pygments_lexer": "ipython3",
   "version": "3.10.9"
  }
 },
 "nbformat": 4,
 "nbformat_minor": 5
}
