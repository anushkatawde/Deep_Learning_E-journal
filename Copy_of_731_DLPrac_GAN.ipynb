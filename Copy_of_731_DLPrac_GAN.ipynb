{
  "nbformat": 4,
  "nbformat_minor": 0,
  "metadata": {
    "colab": {
      "provenance": []
    },
    "kernelspec": {
      "name": "python3",
      "display_name": "Python 3"
    },
    "language_info": {
      "name": "python"
    }
  },
  "cells": [
    {
      "cell_type": "markdown",
      "source": [
        "**Aim :- Deploying Generative Adversarial Network (GAN) for Generating Fake data.**"
      ],
      "metadata": {
        "id": "smOvtQYwu9Vr"
      }
    },
    {
      "cell_type": "code",
      "execution_count": null,
      "metadata": {
        "id": "p0K_UgIUsen_"
      },
      "outputs": [],
      "source": [
        "# Importing Libraries\n",
        "\n",
        "import torch # pytorch\n",
        "from torch import nn\n",
        "import math\n",
        "import matplotlib.pyplot as plt\n"
      ]
    },
    {
      "cell_type": "code",
      "source": [
        "# Preparing training_data\n",
        "\n",
        "train_data_length = 1024 # samples\n",
        "train_data = torch.zeros((train_data_length,2)) # 2 columns initilize with zero\n",
        "train_data[:,0] = 2*math.pi*torch.rand(train_data_length) # 1 st column rand*3.14*2\n",
        "train_data[:,1] = torch.sin(train_data[:,0]) # 2 nd column apply sin on 1 st column\n",
        "train_labels = torch.zeros(train_data_length)\n"
      ],
      "metadata": {
        "id": "_YJwCIBRstO0"
      },
      "execution_count": null,
      "outputs": []
    },
    {
      "cell_type": "code",
      "source": [
        "train_set = [(train_data[i],train_labels[i])for i in range(train_data_length)] # rows 1024\n",
        "train_set\n"
      ],
      "metadata": {
        "id": "uKQu2XLKtvob"
      },
      "execution_count": null,
      "outputs": []
    },
    {
      "cell_type": "code",
      "source": [
        "# Visualizing the data # original data fake graph and original should match\n",
        "\n",
        "plt.plot(train_data[:,0],train_data[:,1],\".\") # x and y axis 2 columns\n",
        "\n",
        "# plt.plot(train_data[:,0],train_data[:,1],\".\",c='green')\n",
        "# plt.plot(train_data[:,0],train_data[:,1],\"_\",c='orange')\n"
      ],
      "metadata": {
        "colab": {
          "base_uri": "https://localhost:8080/",
          "height": 447
        },
        "id": "eIP8iQBquq_0",
        "outputId": "43b5df4c-ec17-4b9d-c68c-b1c38d611690"
      },
      "execution_count": null,
      "outputs": [
        {
          "output_type": "execute_result",
          "data": {
            "text/plain": [
              "[<matplotlib.lines.Line2D at 0x7b6741c32a40>]"
            ]
          },
          "metadata": {},
          "execution_count": 4
        },
        {
          "output_type": "display_data",
          "data": {
            "text/plain": [
              "<Figure size 640x480 with 1 Axes>"
            ],
            "image/png": "[encoded data removed]"
          },
          "metadata": {}
        }
      ]
    },
    {
      "cell_type": "code",
      "source": [
        "# Creating data loader for batch_wise training\n",
        "\n",
        "batch_size = 32 # one batch with 32 samples\n",
        "train_loader = torch.utils.data.DataLoader(train_set, batch_size = batch_size)\n",
        "train_loader\n"
      ],
      "metadata": {
        "colab": {
          "base_uri": "https://localhost:8080/"
        },
        "id": "RfpMsIeBwZeL",
        "outputId": "890e3fe1-7852-4b0d-907b-b8d559cba0ba"
      },
      "execution_count": null,
      "outputs": [
        {
          "output_type": "execute_result",
          "data": {
            "text/plain": [
              "<torch.utils.data.dataloader.DataLoader at 0x7b6742161ea0>"
            ]
          },
          "metadata": {},
          "execution_count": 5
        }
      ]
    },
    {
      "cell_type": "code",
      "source": [
        "# Building Discriminator\n",
        "\n",
        "class Discriminator(nn.Module):\n",
        "  def __init__(self):\n",
        "    super().__init__()\n",
        "    self.model = nn.Sequential(\n",
        "        nn.Linear(2,256),   # dense in pytorch linear\n",
        "        nn.ReLU(),\n",
        "        nn.Dropout(0.3),\n",
        "        nn.Linear(256,128),\n",
        "        nn.ReLU(),\n",
        "        nn.Dropout(0.3), # Regularization\n",
        "        nn.Linear(128,64),\n",
        "        nn.ReLU(),\n",
        "        nn.Dropout(0.3),\n",
        "        nn.Linear(64,1),\n",
        "        nn.Sigmoid(),\n",
        "        )\n",
        "\n",
        "    # Sequential\n",
        "\n",
        "    def forward(self,x):\n",
        "      output = self.model(x)\n",
        "      return output\n"
      ],
      "metadata": {
        "id": "U-bzh47fwpYT"
      },
      "execution_count": null,
      "outputs": []
    },
    {
      "cell_type": "code",
      "source": [
        "# Building Generator\n",
        "\n",
        "class Generator(nn.Module):\n",
        "  def __init__(self):\n",
        "    super().__init__() # super class ko inherit kiya hai\n",
        "\n",
        "    self.model = nn.Sequential(\n",
        "        nn.Linear(2,16),\n",
        "        nn.ReLU(),\n",
        "        nn.Linear(16,32),\n",
        "        nn.ReLU(),\n",
        "        nn.Linear(32,2),\n",
        "    )\n",
        "\n",
        "    # Sequential\n",
        "\n",
        "  def forward(self,x):\n",
        "    output = self.model(x)\n",
        "    return output\n"
      ],
      "metadata": {
        "id": "JkH9aNQtxwRL"
      },
      "execution_count": null,
      "outputs": []
    },
    {
      "cell_type": "code",
      "source": [
        "# Creating Objects for Both Classes\n",
        "\n",
        "discriminator = Discriminator()\n",
        "generator = Generator()\n"
      ],
      "metadata": {
        "id": "GM7AOgH01H7c"
      },
      "execution_count": null,
      "outputs": []
    },
    {
      "cell_type": "code",
      "source": [
        "# Setting Parameters for training\n",
        "\n",
        "lr = 0.001\n",
        "num_epochs = 300\n",
        "loss_function = nn.BCELoss() # binary cross entropy in pytorch\n"
      ],
      "metadata": {
        "id": "qTVi39fG2TlV"
      },
      "execution_count": null,
      "outputs": []
    },
    {
      "cell_type": "code",
      "source": [
        "# Setting Optimizers\n",
        "\n",
        "optimizer_d = torch.optim.Adam(discriminator.parameters(),lr=lr)\n",
        "optimizer_g = torch.optim.Adam(generator.parameters(),lr=lr)\n"
      ],
      "metadata": {
        "id": "-Fo9oN5Z2r9j"
      },
      "execution_count": null,
      "outputs": []
    },
    {
      "cell_type": "code",
      "source": [
        "# Training GAN\n",
        "\n",
        "for epoch in range(num_epochs):\n",
        "  for n,(real_samples,_) in enumerate(train_loader):\n",
        "    real_samples_labels = torch.ones((batch_size,1))\n",
        "    latent_space_samples = torch.randn((batch_size,2))\n",
        "    generated_samples = generator(latent_space_samples)\n",
        "    generated_samples_labels = torch.zeros((batch_size,1))\n",
        "    all_samples = torch.cat((real_samples, generated_samples))\n",
        "    all_samples_labels = torch.cat((real_samples_labels, generated_samples_labels))\n",
        "\n",
        "    # Training Discriminator\n",
        "\n",
        "    discriminator.zero_grad()\n",
        "    output_discriminator = discriminator(all_samples)\n",
        "    loss_discriminator = loss_function(output_discriminator, all_samples_labels)\n",
        "    loss_discriminator.backward()\n",
        "    optimizer_d.step()\n",
        "\n",
        "    # Generate random noise for training generator\n",
        "\n",
        "    latent_space_samples = torch.randn((batch_size,2))\n",
        "\n",
        "    # Training generator\n",
        "\n",
        "    generator.zero_grad()\n",
        "    generator_samples = generator(latent_space_samples)\n",
        "    output_discriminator_generated = discriminator(generated_samples)\n",
        "    loss_generator = loss_function(output_discriminator_generated,real_samples_labels)\n",
        "\n",
        "    loss_generator.backward()\n",
        "    optimizer_g.step()\n"
      ],
      "metadata": {
        "colab": {
          "base_uri": "https://localhost:8080/",
          "height": 390
        },
        "id": "RHYYBKu43sfk",
        "outputId": "a1e56f85-8027-4681-dd11-2d6c1bb6c18c"
      },
      "execution_count": null,
      "outputs": [
        {
          "output_type": "error",
          "ename": "NotImplementedError",
          "evalue": "ignored",
          "traceback": [
            "\u001b[0;31m---------------------------------------------------------------------------\u001b[0m",
            "\u001b[0;31mNotImplementedError\u001b[0m                       Traceback (most recent call last)",
            "\u001b[0;32m<ipython-input-11-2023644a6174>\u001b[0m in \u001b[0;36m<cell line: 3>\u001b[0;34m()\u001b[0m\n\u001b[1;32m      5\u001b[0m     \u001b[0mreal_samples_labels\u001b[0m \u001b[0;34m=\u001b[0m \u001b[0mtorch\u001b[0m\u001b[0;34m.\u001b[0m\u001b[0mones\u001b[0m\u001b[0;34m(\u001b[0m\u001b[0;34m(\u001b[0m\u001b[0mbatch_size\u001b[0m\u001b[0;34m,\u001b[0m\u001b[0;36m1\u001b[0m\u001b[0;34m)\u001b[0m\u001b[0;34m)\u001b[0m\u001b[0;34m\u001b[0m\u001b[0;34m\u001b[0m\u001b[0m\n\u001b[1;32m      6\u001b[0m     \u001b[0mlatent_space_samples\u001b[0m \u001b[0;34m=\u001b[0m \u001b[0mtorch\u001b[0m\u001b[0;34m.\u001b[0m\u001b[0mrandn\u001b[0m\u001b[0;34m(\u001b[0m\u001b[0;34m(\u001b[0m\u001b[0mbatch_size\u001b[0m\u001b[0;34m,\u001b[0m\u001b[0;36m2\u001b[0m\u001b[0;34m)\u001b[0m\u001b[0;34m)\u001b[0m\u001b[0;34m\u001b[0m\u001b[0;34m\u001b[0m\u001b[0m\n\u001b[0;32m----> 7\u001b[0;31m     \u001b[0mgenerated_samples\u001b[0m \u001b[0;34m=\u001b[0m \u001b[0mgenerator\u001b[0m\u001b[0;34m(\u001b[0m\u001b[0mlatent_space_samples\u001b[0m\u001b[0;34m)\u001b[0m\u001b[0;34m\u001b[0m\u001b[0;34m\u001b[0m\u001b[0m\n\u001b[0m\u001b[1;32m      8\u001b[0m     \u001b[0mgenerated_samples_labels\u001b[0m \u001b[0;34m=\u001b[0m \u001b[0mtorch\u001b[0m\u001b[0;34m.\u001b[0m\u001b[0mzeros\u001b[0m\u001b[0;34m(\u001b[0m\u001b[0;34m(\u001b[0m\u001b[0mbatch_size\u001b[0m\u001b[0;34m,\u001b[0m\u001b[0;36m1\u001b[0m\u001b[0;34m)\u001b[0m\u001b[0;34m)\u001b[0m\u001b[0;34m\u001b[0m\u001b[0;34m\u001b[0m\u001b[0m\n\u001b[1;32m      9\u001b[0m     \u001b[0mall_samples\u001b[0m \u001b[0;34m=\u001b[0m \u001b[0mtorch\u001b[0m\u001b[0;34m.\u001b[0m\u001b[0mcat\u001b[0m\u001b[0;34m(\u001b[0m\u001b[0;34m(\u001b[0m\u001b[0mreal_samples\u001b[0m\u001b[0;34m,\u001b[0m \u001b[0mgenerated_samples\u001b[0m\u001b[0;34m)\u001b[0m\u001b[0;34m)\u001b[0m\u001b[0;34m\u001b[0m\u001b[0;34m\u001b[0m\u001b[0m\n",
            "\u001b[0;32m/usr/local/lib/python3.10/dist-packages/torch/nn/modules/module.py\u001b[0m in \u001b[0;36m_call_impl\u001b[0;34m(self, *args, **kwargs)\u001b[0m\n\u001b[1;32m   1499\u001b[0m                 \u001b[0;32mor\u001b[0m \u001b[0m_global_backward_pre_hooks\u001b[0m \u001b[0;32mor\u001b[0m \u001b[0m_global_backward_hooks\u001b[0m\u001b[0;34m\u001b[0m\u001b[0;34m\u001b[0m\u001b[0m\n\u001b[1;32m   1500\u001b[0m                 or _global_forward_hooks or _global_forward_pre_hooks):\n\u001b[0;32m-> 1501\u001b[0;31m             \u001b[0;32mreturn\u001b[0m \u001b[0mforward_call\u001b[0m\u001b[0;34m(\u001b[0m\u001b[0;34m*\u001b[0m\u001b[0margs\u001b[0m\u001b[0;34m,\u001b[0m \u001b[0;34m**\u001b[0m\u001b[0mkwargs\u001b[0m\u001b[0;34m)\u001b[0m\u001b[0;34m\u001b[0m\u001b[0;34m\u001b[0m\u001b[0m\n\u001b[0m\u001b[1;32m   1502\u001b[0m         \u001b[0;31m# Do not call functions when jit is used\u001b[0m\u001b[0;34m\u001b[0m\u001b[0;34m\u001b[0m\u001b[0m\n\u001b[1;32m   1503\u001b[0m         \u001b[0mfull_backward_hooks\u001b[0m\u001b[0;34m,\u001b[0m \u001b[0mnon_full_backward_hooks\u001b[0m \u001b[0;34m=\u001b[0m \u001b[0;34m[\u001b[0m\u001b[0;34m]\u001b[0m\u001b[0;34m,\u001b[0m \u001b[0;34m[\u001b[0m\u001b[0;34m]\u001b[0m\u001b[0;34m\u001b[0m\u001b[0;34m\u001b[0m\u001b[0m\n",
            "\u001b[0;32m/usr/local/lib/python3.10/dist-packages/torch/nn/modules/module.py\u001b[0m in \u001b[0;36m_forward_unimplemented\u001b[0;34m(self, *input)\u001b[0m\n\u001b[1;32m    361\u001b[0m         \u001b[0mregistered\u001b[0m \u001b[0mhooks\u001b[0m \u001b[0;32mwhile\u001b[0m \u001b[0mthe\u001b[0m \u001b[0mlatter\u001b[0m \u001b[0msilently\u001b[0m \u001b[0mignores\u001b[0m \u001b[0mthem\u001b[0m\u001b[0;34m.\u001b[0m\u001b[0;34m\u001b[0m\u001b[0;34m\u001b[0m\u001b[0m\n\u001b[1;32m    362\u001b[0m     \"\"\"\n\u001b[0;32m--> 363\u001b[0;31m     \u001b[0;32mraise\u001b[0m \u001b[0mNotImplementedError\u001b[0m\u001b[0;34m(\u001b[0m\u001b[0;34mf\"Module [{type(self).__name__}] is missing the required \\\"forward\\\" function\"\u001b[0m\u001b[0;34m)\u001b[0m\u001b[0;34m\u001b[0m\u001b[0;34m\u001b[0m\u001b[0m\n\u001b[0m\u001b[1;32m    364\u001b[0m \u001b[0;34m\u001b[0m\u001b[0m\n\u001b[1;32m    365\u001b[0m \u001b[0;34m\u001b[0m\u001b[0m\n",
            "\u001b[0;31mNotImplementedError\u001b[0m: Module [Generator] is missing the required \"forward\" function"
          ]
        }
      ]
    },
    {
      "cell_type": "code",
      "source": [
        "# Generating Fake Data & Visualizing\n",
        "\n",
        "    latent_space_samples = torch.randn(100,2)\n",
        "    generated_samples = generator(latent_space_samples)\n",
        "    generated_samples = generated_samples.detach()\n",
        "    plt.plot(generated_samples[:,0],\n",
        "             generated_samples[:,1],\n",
        "             \".\")"
      ],
      "metadata": {
        "id": "psfyubmxENxI"
      },
      "execution_count": null,
      "outputs": []
    },
    {
      "cell_type": "code",
      "source": [
        "# Training GAN\n",
        "\n",
        "for epoch in range(num_epochs):\n",
        "  for n, (real_samples,_) in enumerate(train_loader):\n",
        "    real_samples_labels = torch.ones((batch_size, 1))\n",
        "    latent_space_samples = torch.randn((batch_size, 2))\n",
        "    generated_samples = generator(latent_space_samples)\n",
        "    generated_samples_labels = torch.zeros((batch_size, 1))\n",
        "    all_samples = torch.cat((real_samples, generated_samples))\n",
        "    all_samples_labels = torch.cat((real_samples_labels, generated_samples_labels))\n",
        "\n",
        "# Training discriminator\n",
        "\n",
        "    discriminator.zero_grad()\n",
        "    output_discriminator = discriminator(all_samples)\n",
        "    loss_discriminator = loss_function(output_discriminator, all_samples_labels)\n",
        "    loss_discriminator.backward()\n",
        "    optimizer_d.step()\n",
        "\n",
        "# generator random noise for training generator\n",
        "\n",
        "    latent_space_samples = torch.randn((batch_size, 2))\n",
        "\n",
        "# Training generator\n",
        "\n",
        "    generator.zero_grad()\n",
        "    generated_samples = generator(latent_space_samples)\n",
        "    output_discriminator_generated = discriminator(generated_samples)\n",
        "    loss_generator = loss_function(output_discriminator_generated,real_samples_labels)\n",
        "    loss_generator.backward()\n",
        "    optimizer_g.step()\n",
        "\n",
        "\n",
        "\n",
        "\n",
        "\n",
        "\n",
        "\n",
        "    # Generating fake data & visualising\n",
        "\n",
        "latent_space_samples = torch.randn(100,2)\n",
        "generated_samples = generator(latent_space_samples)\n",
        "generated_samples = generated_samples.detach()\n",
        "plt.plot(generated_samples[:,0],generated_samples[:,1],\"_\")"
      ],
      "metadata": {
        "id": "9VPf4wEfBfq9"
      },
      "execution_count": null,
      "outputs": []
    }
  ]
}