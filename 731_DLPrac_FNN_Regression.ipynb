{
 "cells": [
  {
   "cell_type": "code",
   "execution_count": 1,
   "id": "d4f29040",
   "metadata": {},
   "outputs": [],
   "source": [
    "import pandas as pd\n",
    "from keras.models import Sequential# supervised\n",
    "from keras.layers import Dense\n",
    "import numpy as np\n",
    "from sklearn.model_selection import train_test_split"
   ]
  },
  {
   "cell_type": "code",
   "execution_count": 2,
   "id": "a442a001",
   "metadata": {},
   "outputs": [
    {
     "data": {
      "text/plain": [
       "array([[0.5488135 , 0.71518937, 0.60276338],\n",
       "       [0.54488318, 0.4236548 , 0.64589411],\n",
       "       [0.43758721, 0.891773  , 0.96366276],\n",
       "       [0.38344152, 0.79172504, 0.52889492],\n",
       "       [0.56804456, 0.92559664, 0.07103606]])"
      ]
     },
     "execution_count": 2,
     "metadata": {},
     "output_type": "execute_result"
    }
   ],
   "source": [
    "np.random.seed(0)\n",
    "x = np.random.rand(1000,3) # Vectors will be generated\n",
    "x[0:5]"
   ]
  },
  {
   "cell_type": "code",
   "execution_count": 3,
   "id": "4b30d59b",
   "metadata": {},
   "outputs": [],
   "source": [
    "def true_func(x):\n",
    "    return np.sin(1.5*np.pi*x[:,0]) + np.cos(1.5*np.pi*x[:,1]) + 2*x[:,2]"
   ]
  },
  {
   "cell_type": "code",
   "execution_count": 4,
   "id": "a0a83603",
   "metadata": {},
   "outputs": [],
   "source": [
    "y = true_func(x)"
   ]
  },
  {
   "cell_type": "code",
   "execution_count": 5,
   "id": "fd14af00",
   "metadata": {},
   "outputs": [
    {
     "data": {
      "text/plain": [
       "array([0.75881293, 1.4217976 , 2.320869  , 1.19872386, 0.24678974])"
      ]
     },
     "execution_count": 5,
     "metadata": {},
     "output_type": "execute_result"
    }
   ],
   "source": [
    "y[0:5]"
   ]
  },
  {
   "cell_type": "code",
   "execution_count": 6,
   "id": "79b6d92a",
   "metadata": {},
   "outputs": [],
   "source": [
    "xtrain,xtest,ytrain,ytest = train_test_split(x,y,test_size=0.2,random_state=1)\n"
   ]
  },
  {
   "cell_type": "code",
   "execution_count": 7,
   "id": "909ffd33",
   "metadata": {},
   "outputs": [],
   "source": [
    "model=Sequential()\n",
    "model.add(Dense(15,input_dim=3,activation='relu')) \n",
    "model.add(Dense(1,activation='linear')) # same as identity fuction"
   ]
  },
  {
   "cell_type": "code",
   "execution_count": 8,
   "id": "d4920ea8",
   "metadata": {},
   "outputs": [],
   "source": [
    "model.compile(loss='mean_squared_error',optimizer='adam',metrics='mean_absolute_error') "
   ]
  },
  {
   "cell_type": "code",
   "execution_count": 9,
   "id": "557bf39a",
   "metadata": {
    "scrolled": false
   },
   "outputs": [
    {
     "name": "stdout",
     "output_type": "stream",
     "text": [
      "Epoch 1/150\n",
      "27/27 [==============================] - 0s 911us/step - loss: 2.3785 - mean_absolute_error: 1.2822\n",
      "Epoch 2/150\n",
      "27/27 [==============================] - 0s 668us/step - loss: 2.0871 - mean_absolute_error: 1.1903\n",
      "Epoch 3/150\n",
      "27/27 [==============================] - 0s 629us/step - loss: 1.8239 - mean_absolute_error: 1.1052\n",
      "Epoch 4/150\n",
      "27/27 [==============================] - 0s 687us/step - loss: 1.5941 - mean_absolute_error: 1.0281\n",
      "Epoch 5/150\n",
      "27/27 [==============================] - 0s 672us/step - loss: 1.4022 - mean_absolute_error: 0.9589\n",
      "Epoch 6/150\n",
      "27/27 [==============================] - 0s 655us/step - loss: 1.2566 - mean_absolute_error: 0.9036\n",
      "Epoch 7/150\n",
      "27/27 [==============================] - 0s 686us/step - loss: 1.1459 - mean_absolute_error: 0.8584\n",
      "Epoch 8/150\n",
      "27/27 [==============================] - 0s 694us/step - loss: 1.0585 - mean_absolute_error: 0.8238\n",
      "Epoch 9/150\n",
      "27/27 [==============================] - 0s 676us/step - loss: 0.9884 - mean_absolute_error: 0.7942\n",
      "Epoch 10/150\n",
      "27/27 [==============================] - 0s 652us/step - loss: 0.9238 - mean_absolute_error: 0.7676\n",
      "Epoch 11/150\n",
      "27/27 [==============================] - 0s 672us/step - loss: 0.8676 - mean_absolute_error: 0.7440\n",
      "Epoch 12/150\n",
      "27/27 [==============================] - 0s 669us/step - loss: 0.8156 - mean_absolute_error: 0.7217\n",
      "Epoch 13/150\n",
      "27/27 [==============================] - 0s 671us/step - loss: 0.7675 - mean_absolute_error: 0.7006\n",
      "Epoch 14/150\n",
      "27/27 [==============================] - 0s 702us/step - loss: 0.7207 - mean_absolute_error: 0.6790\n",
      "Epoch 15/150\n",
      "27/27 [==============================] - 0s 641us/step - loss: 0.6797 - mean_absolute_error: 0.6601\n",
      "Epoch 16/150\n",
      "27/27 [==============================] - 0s 673us/step - loss: 0.6402 - mean_absolute_error: 0.6431\n",
      "Epoch 17/150\n",
      "27/27 [==============================] - 0s 677us/step - loss: 0.6067 - mean_absolute_error: 0.6250\n",
      "Epoch 18/150\n",
      "27/27 [==============================] - 0s 699us/step - loss: 0.5745 - mean_absolute_error: 0.6104\n",
      "Epoch 19/150\n",
      "27/27 [==============================] - 0s 738us/step - loss: 0.5438 - mean_absolute_error: 0.5932\n",
      "Epoch 20/150\n",
      "27/27 [==============================] - 0s 675us/step - loss: 0.5179 - mean_absolute_error: 0.5790\n",
      "Epoch 21/150\n",
      "27/27 [==============================] - 0s 701us/step - loss: 0.4954 - mean_absolute_error: 0.5675\n",
      "Epoch 22/150\n",
      "27/27 [==============================] - 0s 701us/step - loss: 0.4749 - mean_absolute_error: 0.5562\n",
      "Epoch 23/150\n",
      "27/27 [==============================] - 0s 673us/step - loss: 0.4573 - mean_absolute_error: 0.5450\n",
      "Epoch 24/150\n",
      "27/27 [==============================] - 0s 736us/step - loss: 0.4419 - mean_absolute_error: 0.5374\n",
      "Epoch 25/150\n",
      "27/27 [==============================] - 0s 1ms/step - loss: 0.4297 - mean_absolute_error: 0.5290\n",
      "Epoch 26/150\n",
      "27/27 [==============================] - 0s 941us/step - loss: 0.4174 - mean_absolute_error: 0.5224\n",
      "Epoch 27/150\n",
      "27/27 [==============================] - 0s 803us/step - loss: 0.4079 - mean_absolute_error: 0.5169\n",
      "Epoch 28/150\n",
      "27/27 [==============================] - 0s 1ms/step - loss: 0.3993 - mean_absolute_error: 0.5120\n",
      "Epoch 29/150\n",
      "27/27 [==============================] - 0s 884us/step - loss: 0.3910 - mean_absolute_error: 0.5068\n",
      "Epoch 30/150\n",
      "27/27 [==============================] - 0s 833us/step - loss: 0.3850 - mean_absolute_error: 0.5031\n",
      "Epoch 31/150\n",
      "27/27 [==============================] - 0s 766us/step - loss: 0.3791 - mean_absolute_error: 0.4988\n",
      "Epoch 32/150\n",
      "27/27 [==============================] - 0s 694us/step - loss: 0.3753 - mean_absolute_error: 0.4966\n",
      "Epoch 33/150\n",
      "27/27 [==============================] - 0s 708us/step - loss: 0.3700 - mean_absolute_error: 0.4921\n",
      "Epoch 34/150\n",
      "27/27 [==============================] - 0s 708us/step - loss: 0.3661 - mean_absolute_error: 0.4895\n",
      "Epoch 35/150\n",
      "27/27 [==============================] - 0s 690us/step - loss: 0.3625 - mean_absolute_error: 0.4868\n",
      "Epoch 36/150\n",
      "27/27 [==============================] - 0s 673us/step - loss: 0.3608 - mean_absolute_error: 0.4852\n",
      "Epoch 37/150\n",
      "27/27 [==============================] - 0s 706us/step - loss: 0.3569 - mean_absolute_error: 0.4827\n",
      "Epoch 38/150\n",
      "27/27 [==============================] - 0s 657us/step - loss: 0.3545 - mean_absolute_error: 0.4801\n",
      "Epoch 39/150\n",
      "27/27 [==============================] - 0s 650us/step - loss: 0.3531 - mean_absolute_error: 0.4786\n",
      "Epoch 40/150\n",
      "27/27 [==============================] - 0s 678us/step - loss: 0.3507 - mean_absolute_error: 0.4773\n",
      "Epoch 41/150\n",
      "27/27 [==============================] - 0s 643us/step - loss: 0.3493 - mean_absolute_error: 0.4757\n",
      "Epoch 42/150\n",
      "27/27 [==============================] - 0s 660us/step - loss: 0.3469 - mean_absolute_error: 0.4739\n",
      "Epoch 43/150\n",
      "27/27 [==============================] - 0s 662us/step - loss: 0.3455 - mean_absolute_error: 0.4717\n",
      "Epoch 44/150\n",
      "27/27 [==============================] - 0s 660us/step - loss: 0.3440 - mean_absolute_error: 0.4709\n",
      "Epoch 45/150\n",
      "27/27 [==============================] - 0s 675us/step - loss: 0.3429 - mean_absolute_error: 0.4705\n",
      "Epoch 46/150\n",
      "27/27 [==============================] - 0s 639us/step - loss: 0.3412 - mean_absolute_error: 0.4679\n",
      "Epoch 47/150\n",
      "27/27 [==============================] - 0s 646us/step - loss: 0.3400 - mean_absolute_error: 0.4673\n",
      "Epoch 48/150\n",
      "27/27 [==============================] - 0s 698us/step - loss: 0.3384 - mean_absolute_error: 0.4659\n",
      "Epoch 49/150\n",
      "27/27 [==============================] - 0s 709us/step - loss: 0.3374 - mean_absolute_error: 0.4649\n",
      "Epoch 50/150\n",
      "27/27 [==============================] - 0s 658us/step - loss: 0.3373 - mean_absolute_error: 0.4649\n",
      "Epoch 51/150\n",
      "27/27 [==============================] - 0s 646us/step - loss: 0.3356 - mean_absolute_error: 0.4636\n",
      "Epoch 52/150\n",
      "27/27 [==============================] - 0s 694us/step - loss: 0.3347 - mean_absolute_error: 0.4622\n",
      "Epoch 53/150\n",
      "27/27 [==============================] - 0s 637us/step - loss: 0.3334 - mean_absolute_error: 0.4622\n",
      "Epoch 54/150\n",
      "27/27 [==============================] - 0s 640us/step - loss: 0.3321 - mean_absolute_error: 0.4599\n",
      "Epoch 55/150\n",
      "27/27 [==============================] - 0s 632us/step - loss: 0.3314 - mean_absolute_error: 0.4594\n",
      "Epoch 56/150\n",
      "27/27 [==============================] - 0s 640us/step - loss: 0.3309 - mean_absolute_error: 0.4609\n",
      "Epoch 57/150\n",
      "27/27 [==============================] - 0s 678us/step - loss: 0.3293 - mean_absolute_error: 0.4586\n",
      "Epoch 58/150\n",
      "27/27 [==============================] - 0s 733us/step - loss: 0.3283 - mean_absolute_error: 0.4577\n",
      "Epoch 59/150\n",
      "27/27 [==============================] - 0s 733us/step - loss: 0.3281 - mean_absolute_error: 0.4567\n",
      "Epoch 60/150\n",
      "27/27 [==============================] - 0s 709us/step - loss: 0.3270 - mean_absolute_error: 0.4573\n",
      "Epoch 61/150\n",
      "27/27 [==============================] - 0s 698us/step - loss: 0.3254 - mean_absolute_error: 0.4548\n",
      "Epoch 62/150\n",
      "27/27 [==============================] - 0s 704us/step - loss: 0.3247 - mean_absolute_error: 0.4556\n",
      "Epoch 63/150\n",
      "27/27 [==============================] - 0s 695us/step - loss: 0.3232 - mean_absolute_error: 0.4545\n",
      "Epoch 64/150\n",
      "27/27 [==============================] - 0s 726us/step - loss: 0.3221 - mean_absolute_error: 0.4534\n",
      "Epoch 65/150\n",
      "27/27 [==============================] - 0s 726us/step - loss: 0.3219 - mean_absolute_error: 0.4534\n",
      "Epoch 66/150\n",
      "27/27 [==============================] - 0s 697us/step - loss: 0.3207 - mean_absolute_error: 0.4527\n",
      "Epoch 67/150\n",
      "27/27 [==============================] - 0s 731us/step - loss: 0.3185 - mean_absolute_error: 0.4498\n",
      "Epoch 68/150\n",
      "27/27 [==============================] - 0s 750us/step - loss: 0.3168 - mean_absolute_error: 0.4496\n",
      "Epoch 69/150\n",
      "27/27 [==============================] - 0s 715us/step - loss: 0.3146 - mean_absolute_error: 0.4483\n",
      "Epoch 70/150\n",
      "27/27 [==============================] - 0s 700us/step - loss: 0.3082 - mean_absolute_error: 0.4409\n",
      "Epoch 71/150\n",
      "27/27 [==============================] - 0s 648us/step - loss: 0.3029 - mean_absolute_error: 0.4367\n",
      "Epoch 72/150\n",
      "27/27 [==============================] - 0s 647us/step - loss: 0.2980 - mean_absolute_error: 0.4305\n",
      "Epoch 73/150\n"
     ]
    },
    {
     "name": "stdout",
     "output_type": "stream",
     "text": [
      "27/27 [==============================] - 0s 637us/step - loss: 0.2929 - mean_absolute_error: 0.4272\n",
      "Epoch 74/150\n",
      "27/27 [==============================] - 0s 641us/step - loss: 0.2870 - mean_absolute_error: 0.4214\n",
      "Epoch 75/150\n",
      "27/27 [==============================] - 0s 657us/step - loss: 0.2816 - mean_absolute_error: 0.4142\n",
      "Epoch 76/150\n",
      "27/27 [==============================] - 0s 661us/step - loss: 0.2763 - mean_absolute_error: 0.4116\n",
      "Epoch 77/150\n",
      "27/27 [==============================] - 0s 663us/step - loss: 0.2706 - mean_absolute_error: 0.4046\n",
      "Epoch 78/150\n",
      "27/27 [==============================] - 0s 673us/step - loss: 0.2647 - mean_absolute_error: 0.4007\n",
      "Epoch 79/150\n",
      "27/27 [==============================] - 0s 677us/step - loss: 0.2590 - mean_absolute_error: 0.3950\n",
      "Epoch 80/150\n",
      "27/27 [==============================] - 0s 659us/step - loss: 0.2535 - mean_absolute_error: 0.3910\n",
      "Epoch 81/150\n",
      "27/27 [==============================] - 0s 658us/step - loss: 0.2481 - mean_absolute_error: 0.3853\n",
      "Epoch 82/150\n",
      "27/27 [==============================] - 0s 648us/step - loss: 0.2422 - mean_absolute_error: 0.3797\n",
      "Epoch 83/150\n",
      "27/27 [==============================] - 0s 649us/step - loss: 0.2370 - mean_absolute_error: 0.3776\n",
      "Epoch 84/150\n",
      "27/27 [==============================] - 0s 663us/step - loss: 0.2313 - mean_absolute_error: 0.3703\n",
      "Epoch 85/150\n",
      "27/27 [==============================] - 0s 697us/step - loss: 0.2262 - mean_absolute_error: 0.3676\n",
      "Epoch 86/150\n",
      "27/27 [==============================] - 0s 684us/step - loss: 0.2219 - mean_absolute_error: 0.3634\n",
      "Epoch 87/150\n",
      "27/27 [==============================] - 0s 657us/step - loss: 0.2171 - mean_absolute_error: 0.3575\n",
      "Epoch 88/150\n",
      "27/27 [==============================] - 0s 708us/step - loss: 0.2131 - mean_absolute_error: 0.3550\n",
      "Epoch 89/150\n",
      "27/27 [==============================] - 0s 663us/step - loss: 0.2084 - mean_absolute_error: 0.3522\n",
      "Epoch 90/150\n",
      "27/27 [==============================] - 0s 703us/step - loss: 0.2044 - mean_absolute_error: 0.3456\n",
      "Epoch 91/150\n",
      "27/27 [==============================] - 0s 685us/step - loss: 0.2008 - mean_absolute_error: 0.3444\n",
      "Epoch 92/150\n",
      "27/27 [==============================] - 0s 623us/step - loss: 0.1965 - mean_absolute_error: 0.3404\n",
      "Epoch 93/150\n",
      "27/27 [==============================] - 0s 693us/step - loss: 0.1926 - mean_absolute_error: 0.3361\n",
      "Epoch 94/150\n",
      "27/27 [==============================] - 0s 718us/step - loss: 0.1901 - mean_absolute_error: 0.3357\n",
      "Epoch 95/150\n",
      "27/27 [==============================] - 0s 697us/step - loss: 0.1876 - mean_absolute_error: 0.3263\n",
      "Epoch 96/150\n",
      "27/27 [==============================] - 0s 639us/step - loss: 0.1836 - mean_absolute_error: 0.3309\n",
      "Epoch 97/150\n",
      "27/27 [==============================] - 0s 652us/step - loss: 0.1791 - mean_absolute_error: 0.3228\n",
      "Epoch 98/150\n",
      "27/27 [==============================] - 0s 692us/step - loss: 0.1762 - mean_absolute_error: 0.3193\n",
      "Epoch 99/150\n",
      "27/27 [==============================] - 0s 741us/step - loss: 0.1725 - mean_absolute_error: 0.3168\n",
      "Epoch 100/150\n",
      "27/27 [==============================] - 0s 614us/step - loss: 0.1692 - mean_absolute_error: 0.3134\n",
      "Epoch 101/150\n",
      "27/27 [==============================] - 0s 652us/step - loss: 0.1661 - mean_absolute_error: 0.3088\n",
      "Epoch 102/150\n",
      "27/27 [==============================] - 0s 655us/step - loss: 0.1634 - mean_absolute_error: 0.3078\n",
      "Epoch 103/150\n",
      "27/27 [==============================] - 0s 654us/step - loss: 0.1598 - mean_absolute_error: 0.3026\n",
      "Epoch 104/150\n",
      "27/27 [==============================] - 0s 624us/step - loss: 0.1565 - mean_absolute_error: 0.3006\n",
      "Epoch 105/150\n",
      "27/27 [==============================] - 0s 692us/step - loss: 0.1540 - mean_absolute_error: 0.2975\n",
      "Epoch 106/150\n",
      "27/27 [==============================] - 0s 796us/step - loss: 0.1508 - mean_absolute_error: 0.2932\n",
      "Epoch 107/150\n",
      "27/27 [==============================] - 0s 759us/step - loss: 0.1476 - mean_absolute_error: 0.2910\n",
      "Epoch 108/150\n",
      "27/27 [==============================] - 0s 870us/step - loss: 0.1447 - mean_absolute_error: 0.2865\n",
      "Epoch 109/150\n",
      "27/27 [==============================] - 0s 702us/step - loss: 0.1417 - mean_absolute_error: 0.2844\n",
      "Epoch 110/150\n",
      "27/27 [==============================] - 0s 686us/step - loss: 0.1387 - mean_absolute_error: 0.2809\n",
      "Epoch 111/150\n",
      "27/27 [==============================] - 0s 703us/step - loss: 0.1365 - mean_absolute_error: 0.2791\n",
      "Epoch 112/150\n",
      "27/27 [==============================] - 0s 673us/step - loss: 0.1331 - mean_absolute_error: 0.2753\n",
      "Epoch 113/150\n",
      "27/27 [==============================] - 0s 676us/step - loss: 0.1305 - mean_absolute_error: 0.2717\n",
      "Epoch 114/150\n",
      "27/27 [==============================] - 0s 678us/step - loss: 0.1273 - mean_absolute_error: 0.2677\n",
      "Epoch 115/150\n",
      "27/27 [==============================] - 0s 676us/step - loss: 0.1249 - mean_absolute_error: 0.2651\n",
      "Epoch 116/150\n",
      "27/27 [==============================] - 0s 642us/step - loss: 0.1224 - mean_absolute_error: 0.2623\n",
      "Epoch 117/150\n",
      "27/27 [==============================] - 0s 679us/step - loss: 0.1195 - mean_absolute_error: 0.2583\n",
      "Epoch 118/150\n",
      "27/27 [==============================] - 0s 692us/step - loss: 0.1175 - mean_absolute_error: 0.2560\n",
      "Epoch 119/150\n",
      "27/27 [==============================] - 0s 720us/step - loss: 0.1147 - mean_absolute_error: 0.2543\n",
      "Epoch 120/150\n",
      "27/27 [==============================] - 0s 660us/step - loss: 0.1122 - mean_absolute_error: 0.2496\n",
      "Epoch 121/150\n",
      "27/27 [==============================] - 0s 709us/step - loss: 0.1099 - mean_absolute_error: 0.2480\n",
      "Epoch 122/150\n",
      "27/27 [==============================] - 0s 696us/step - loss: 0.1076 - mean_absolute_error: 0.2444\n",
      "Epoch 123/150\n",
      "27/27 [==============================] - 0s 687us/step - loss: 0.1053 - mean_absolute_error: 0.2415\n",
      "Epoch 124/150\n",
      "27/27 [==============================] - 0s 670us/step - loss: 0.1030 - mean_absolute_error: 0.2390\n",
      "Epoch 125/150\n",
      "27/27 [==============================] - 0s 666us/step - loss: 0.1010 - mean_absolute_error: 0.2363\n",
      "Epoch 126/150\n",
      "27/27 [==============================] - 0s 718us/step - loss: 0.0991 - mean_absolute_error: 0.2346\n",
      "Epoch 127/150\n",
      "27/27 [==============================] - 0s 660us/step - loss: 0.0966 - mean_absolute_error: 0.2307\n",
      "Epoch 128/150\n",
      "27/27 [==============================] - 0s 664us/step - loss: 0.0947 - mean_absolute_error: 0.2292\n",
      "Epoch 129/150\n",
      "27/27 [==============================] - 0s 651us/step - loss: 0.0926 - mean_absolute_error: 0.2255\n",
      "Epoch 130/150\n",
      "27/27 [==============================] - 0s 708us/step - loss: 0.0909 - mean_absolute_error: 0.2241\n",
      "Epoch 131/150\n",
      "27/27 [==============================] - 0s 2ms/step - loss: 0.0890 - mean_absolute_error: 0.2204\n",
      "Epoch 132/150\n",
      "27/27 [==============================] - 0s 3ms/step - loss: 0.0872 - mean_absolute_error: 0.2193\n",
      "Epoch 133/150\n",
      "27/27 [==============================] - 0s 2ms/step - loss: 0.0850 - mean_absolute_error: 0.2158\n",
      "Epoch 134/150\n",
      "27/27 [==============================] - 0s 3ms/step - loss: 0.0834 - mean_absolute_error: 0.2124\n",
      "Epoch 135/150\n",
      "27/27 [==============================] - 0s 1ms/step - loss: 0.0819 - mean_absolute_error: 0.2129\n",
      "Epoch 136/150\n",
      "27/27 [==============================] - 0s 1ms/step - loss: 0.0801 - mean_absolute_error: 0.2096\n",
      "Epoch 137/150\n",
      "27/27 [==============================] - 0s 2ms/step - loss: 0.0784 - mean_absolute_error: 0.2070\n",
      "Epoch 138/150\n",
      "27/27 [==============================] - 0s 4ms/step - loss: 0.0768 - mean_absolute_error: 0.2052\n",
      "Epoch 139/150\n",
      "27/27 [==============================] - 0s 4ms/step - loss: 0.0755 - mean_absolute_error: 0.2047\n",
      "Epoch 140/150\n",
      "27/27 [==============================] - 0s 3ms/step - loss: 0.0739 - mean_absolute_error: 0.2008\n",
      "Epoch 141/150\n",
      "27/27 [==============================] - 0s 1ms/step - loss: 0.0726 - mean_absolute_error: 0.1985\n",
      "Epoch 142/150\n",
      "27/27 [==============================] - 0s 3ms/step - loss: 0.0712 - mean_absolute_error: 0.1985\n",
      "Epoch 143/150\n",
      "27/27 [==============================] - 0s 3ms/step - loss: 0.0700 - mean_absolute_error: 0.1956\n",
      "Epoch 144/150\n",
      "27/27 [==============================] - 0s 3ms/step - loss: 0.0689 - mean_absolute_error: 0.1943\n",
      "Epoch 145/150\n"
     ]
    },
    {
     "name": "stdout",
     "output_type": "stream",
     "text": [
      "27/27 [==============================] - 0s 3ms/step - loss: 0.0671 - mean_absolute_error: 0.1928\n",
      "Epoch 146/150\n",
      "27/27 [==============================] - 0s 4ms/step - loss: 0.0657 - mean_absolute_error: 0.1905\n",
      "Epoch 147/150\n",
      "27/27 [==============================] - 0s 3ms/step - loss: 0.0649 - mean_absolute_error: 0.1902\n",
      "Epoch 148/150\n",
      "27/27 [==============================] - 0s 4ms/step - loss: 0.0635 - mean_absolute_error: 0.1857\n",
      "Epoch 149/150\n",
      "27/27 [==============================] - 0s 2ms/step - loss: 0.0624 - mean_absolute_error: 0.1848\n",
      "Epoch 150/150\n",
      "27/27 [==============================] - 0s 4ms/step - loss: 0.0614 - mean_absolute_error: 0.1841\n"
     ]
    },
    {
     "data": {
      "text/plain": [
       "<keras.callbacks.History at 0x1c7f3f07b50>"
      ]
     },
     "execution_count": 9,
     "metadata": {},
     "output_type": "execute_result"
    }
   ],
   "source": [
    "model.fit(xtrain,ytrain,epochs=150,batch_size=30)"
   ]
  },
  {
   "cell_type": "code",
   "execution_count": 10,
   "id": "9528c0d4",
   "metadata": {},
   "outputs": [
    {
     "name": "stdout",
     "output_type": "stream",
     "text": [
      "7/7 [==============================] - 0s 3ms/step\n"
     ]
    }
   ],
   "source": [
    "predictions=model.predict(xtest)"
   ]
  },
  {
   "cell_type": "code",
   "execution_count": 11,
   "id": "1d2d5602",
   "metadata": {},
   "outputs": [
    {
     "data": {
      "text/plain": [
       "0.19079109198424044"
      ]
     },
     "execution_count": 11,
     "metadata": {},
     "output_type": "execute_result"
    }
   ],
   "source": [
    "from sklearn.metrics import mean_absolute_error\n",
    "mean_absolute_error(ytest,predictions)"
   ]
  },
  {
   "cell_type": "code",
   "execution_count": null,
   "id": "2c3dbf94",
   "metadata": {},
   "outputs": [],
   "source": []
  }
 ],
 "metadata": {
  "kernelspec": {
   "display_name": "Python 3 (ipykernel)",
   "language": "python",
   "name": "python3"
  },
  "language_info": {
   "codemirror_mode": {
    "name": "ipython",
    "version": 3
   },
   "file_extension": ".py",
   "mimetype": "text/x-python",
   "name": "python",
   "nbconvert_exporter": "python",
   "pygments_lexer": "ipython3",
   "version": "3.10.9"
  }
 },
 "nbformat": 4,
 "nbformat_minor": 5
}
